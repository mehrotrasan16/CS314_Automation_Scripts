{
 "cells": [
  {
   "cell_type": "markdown",
   "metadata": {},
   "source": [
    "# Imports"
   ]
  },
  {
   "cell_type": "code",
   "execution_count": 1,
   "metadata": {},
   "outputs": [],
   "source": [
    "import json\n",
    "import os\n",
    "import glob\n",
    "from jsonschema import Draft7Validator"
   ]
  },
  {
   "cell_type": "code",
   "execution_count": 2,
   "metadata": {},
   "outputs": [
    {
     "name": "stdout",
     "output_type": "stream",
     "text": [
      "Already up to date.\n"
     ]
    }
   ],
   "source": [
    "os.chdir('/media/sanketm/Data/Temp/CS314/csucs314fa20-repo/product/protocol') #path to the protocol repo to get the protocol json schemas\n",
    "!git pull"
   ]
  },
  {
   "cell_type": "code",
   "execution_count": 3,
   "metadata": {},
   "outputs": [
    {
     "name": "stdout",
     "output_type": "stream",
     "text": [
      "Already up to date.\n"
     ]
    }
   ],
   "source": [
    "os.chdir('/media/sanketm/Data/Temp/CS314/csucs314fa20-repo/students/tests/sprint2') # path to the students repo\n",
    "!git pull"
   ]
  },
  {
   "cell_type": "markdown",
   "metadata": {},
   "source": [
    "### Load Student Details from a json file\n",
    "\n",
    "You will proabaly have to generate this file from the scripts present in the grading repository. Dave should give you the student team names. "
   ]
  },
  {
   "cell_type": "code",
   "execution_count": 4,
   "metadata": {},
   "outputs": [
    {
     "data": {
      "text/plain": [
       "{'id': 831823987,\n",
       " 'firstName': 'Alex',\n",
       " 'lastName': 'Hooten',\n",
       " 'teamNumber': 1,\n",
       " 'email': 'ah00t13@rams.colostate.edu',\n",
       " 'eID': 'ah00t13',\n",
       " 'login': 'alex-hooten'}"
      ]
     },
     "execution_count": 4,
     "metadata": {},
     "output_type": "execute_result"
    }
   ],
   "source": [
    "student_deets = json.load(open('/media/sanketm/Data/Temp/CS314/gradingandscripts/fullList.json','r'))\n",
    "student_deets[0]"
   ]
  },
  {
   "cell_type": "code",
   "execution_count": 5,
   "metadata": {},
   "outputs": [
    {
     "data": {
      "text/plain": [
       "['ah00t13', 'pdunton', 'nd0905', 'jgarc110', 'suyashh']"
      ]
     },
     "execution_count": 5,
     "metadata": {},
     "output_type": "execute_result"
    }
   ],
   "source": [
    "student_eid = [a['eID'] for a in student_deets]\n",
    "student_eid[:5]"
   ]
  },
  {
   "cell_type": "code",
   "execution_count": 6,
   "metadata": {},
   "outputs": [],
   "source": [
    "student_githubs = [a['login'] for a in student_deets]"
   ]
  },
  {
   "cell_type": "code",
   "execution_count": 7,
   "metadata": {},
   "outputs": [
    {
     "data": {
      "text/plain": [
       "['alex-hooten', 'prestondunton', 'nd0905', 'tacocabeza', 'suyashhiray']"
      ]
     },
     "execution_count": 7,
     "metadata": {},
     "output_type": "execute_result"
    }
   ],
   "source": [
    "student_githubs[:5]"
   ]
  },
  {
   "cell_type": "markdown",
   "metadata": {},
   "source": [
    "### Get the tests submitted by the students\n",
    "\n",
    "Above we've cd'd into a local git copy of the students repository and git pulled to get the updated repo. Now we collect all the student submitted tests jsons."
   ]
  },
  {
   "cell_type": "code",
   "execution_count": 8,
   "metadata": {},
   "outputs": [],
   "source": [
    "all_jsons = glob.glob('/media/sanketm/Data/Temp/CS314/csucs314fa20-repo/students/tests/sprint2/**.json') # get list of all json files"
   ]
  },
  {
   "cell_type": "code",
   "execution_count": 9,
   "metadata": {},
   "outputs": [
    {
     "data": {
      "text/plain": [
       "191"
      ]
     },
     "execution_count": 9,
     "metadata": {},
     "output_type": "execute_result"
    }
   ],
   "source": [
    "len(all_jsons)"
   ]
  },
  {
   "cell_type": "code",
   "execution_count": 10,
   "metadata": {},
   "outputs": [
    {
     "data": {
      "text/plain": [
       "'/media/sanketm/Data/Temp/CS314/csucs314fa20-repo/students/tests/sprint2/ah00t13-distance.json'"
      ]
     },
     "execution_count": 10,
     "metadata": {},
     "output_type": "execute_result"
    }
   ],
   "source": [
    "all_jsons[2]"
   ]
  },
  {
   "cell_type": "code",
   "execution_count": 11,
   "metadata": {},
   "outputs": [
    {
     "name": "stdout",
     "output_type": "stream",
     "text": [
      "{\n",
      "\n",
      "    \"requestType\": \"distance\",\n",
      "\n",
      "    \"requestVersion\": 2,\n",
      "\n",
      "    \"place1\": {\n",
      "\n",
      "        \"latitude\": \"39.9042\",\n",
      "\n",
      "        \"longitude\": \"116.4074\"\n",
      "\n",
      "    },\n",
      "\n",
      "    \"place2\": {\n",
      "\n",
      "        \"latitude\": \"39.7392\",\n",
      "\n",
      "        \"longitude\": \"-104.9903\"\n",
      "\n",
      "    },\n",
      "\n",
      "    \"earthRadius\": 6371,\n",
      "\n",
      "    \"distance\": 10214\n",
      "\n",
      "}\n",
      "\n"
     ]
    }
   ],
   "source": [
    "with open(all_jsons[0],'r') as f:\n",
    "    for line in f:\n",
    "        print(line)"
   ]
  },
  {
   "cell_type": "code",
   "execution_count": 12,
   "metadata": {},
   "outputs": [],
   "source": [
    "# with open(all_jsons[0],'r') as f:\n",
    "#     contents = json.load(f)\n",
    "# for key in contents:\n",
    "#     print(key,\":\",contents[key])"
   ]
  },
  {
   "cell_type": "markdown",
   "metadata": {},
   "source": [
    "We see that these files roughly are supposed to match the schema present in the product/protocol/RequestXXX.json. Where XXX is a type of request that the students need to program into their server(e.g. Trip, Distance, or Config. We will now pick up the json schemas for the distance request, which is what I'm testing here."
   ]
  },
  {
   "cell_type": "markdown",
   "metadata": {},
   "source": [
    "### Loading the json schemas for the requests\n",
    "Here we load the json schemas for the requests that we want to test for the assignment. We get the schemas from the product/protocol repo."
   ]
  },
  {
   "cell_type": "code",
   "execution_count": 13,
   "metadata": {},
   "outputs": [
    {
     "data": {
      "text/plain": [
       "{'$id': 'https://example.com/address.schema.json',\n",
       " '$schema': 'http://json-schema.org/draft-07/schema#',\n",
       " 'title': 'find',\n",
       " 'description': 'find request/response',\n",
       " 'type': 'object',\n",
       " 'properties': {'requestVersion': {'description': 'the TIP protocol version',\n",
       "   'type': 'integer',\n",
       "   'minimum': 2},\n",
       "  'requestType': {'description': 'the TIP object type should be locations',\n",
       "   'type': 'string',\n",
       "   'pattern': '^find$'},\n",
       "  'match': {'description': 'an alphanumeric pattern used to find geographic locations.',\n",
       "   'type': 'string',\n",
       "   'pattern': '^[a-zA-Z0-9_ ]+$'},\n",
       "  'limit': {'description': 'the maximum number of matching places that may be returned.',\n",
       "   'type': 'integer',\n",
       "   'minimum': 0},\n",
       "  'found': {'description': 'the total number of matching places in the data source(s).',\n",
       "   'type': 'integer',\n",
       "   'minimum': 0},\n",
       "  'places': {'description': 'list of places places found',\n",
       "   'type': 'array',\n",
       "   'items': {'type': 'object',\n",
       "    'properties': {'name': {'type': 'string'},\n",
       "     'latitude': {'type': 'string',\n",
       "      'pattern': '^[-+]?(?:90(?:(?:\\\\.0+)?)|(?:[0-9]|[1-8][0-9])(?:(?:\\\\.[0-9]+)?))$'},\n",
       "     'longitude': {'type': 'string',\n",
       "      'pattern': '^[-+]?(?:180(?:(?:\\\\.0+)?)|(?:[0-9]|[1-9][0-9]|1[0-7][0-9])(?:(?:\\\\.[0-9]+)?))$'}},\n",
       "    'required': ['latitude', 'longitude'],\n",
       "    'additionalProperties': True},\n",
       "   'minitems': 0}},\n",
       " 'required': ['requestVersion', 'requestType'],\n",
       " 'additionalProperties': False}"
      ]
     },
     "execution_count": 13,
     "metadata": {},
     "output_type": "execute_result"
    }
   ],
   "source": [
    "with open('/media/sanketm/Data/Temp/CS314/csucs314fa20-repo/product/protocol/FindRequest.json','r') as f:\n",
    "    find_jsonschema = json.load(f)\n",
    "find_jsonschema"
   ]
  },
  {
   "cell_type": "code",
   "execution_count": 14,
   "metadata": {},
   "outputs": [
    {
     "data": {
      "text/plain": [
       "{'$id': 'https://example.com/address.schema.json',\n",
       " '$schema': 'http://json-schema.org/draft-07/schema#',\n",
       " 'title': 'distance',\n",
       " 'description': 'distance request/response',\n",
       " 'type': 'object',\n",
       " 'properties': {'requestVersion': {'description': 'the TIP protocol version',\n",
       "   'type': 'integer',\n",
       "   'minimum': 2},\n",
       "  'requestType': {'description': 'the TIP object type should be distance',\n",
       "   'type': 'string',\n",
       "   'pattern': '^distance$'},\n",
       "  'place1': {'description': 'an object with the attributes to describe a place',\n",
       "   'type': 'object',\n",
       "   'properties': {'latitude': {'type': 'string',\n",
       "     'pattern': '^[-+]?\\\\d+\\\\.?\\\\d*$'},\n",
       "    'longitude': {'type': 'string', 'pattern': '^[-+]?\\\\d+\\\\.?\\\\d*$'}},\n",
       "   'required': ['latitude', 'longitude'],\n",
       "   'additionalProperties': True},\n",
       "  'place2': {'description': 'an object with the attributes to describe a place',\n",
       "   'type': 'object',\n",
       "   'properties': {'latitude': {'type': 'string',\n",
       "     'pattern': '^[-+]?\\\\d+\\\\.?\\\\d*$'},\n",
       "    'longitude': {'type': 'string', 'pattern': '^[-+]?\\\\d+\\\\.?\\\\d*$'}},\n",
       "   'required': ['latitude', 'longitude'],\n",
       "   'additionalProperties': True},\n",
       "  'earthRadius': {'description': 'the radius of the earth in some unit of measure',\n",
       "   'type': 'number',\n",
       "   'minimum': 0},\n",
       "  'distance': {'description': 'the great circle distance between the origin and destination using the radius measure',\n",
       "   'type': 'integer',\n",
       "   'minimum': 0}},\n",
       " 'required': ['requestVersion',\n",
       "  'requestType',\n",
       "  'place1',\n",
       "  'place2',\n",
       "  'earthRadius'],\n",
       " 'additionalProperties': False}"
      ]
     },
     "execution_count": 14,
     "metadata": {},
     "output_type": "execute_result"
    }
   ],
   "source": [
    "with open('/media/sanketm/Data/Temp/CS314/csucs314fa20-repo/product/protocol/DistanceRequest.json','r') as f:\n",
    "    distance_jsonschema = json.load(f)\n",
    "distance_jsonschema"
   ]
  },
  {
   "cell_type": "code",
   "execution_count": 15,
   "metadata": {},
   "outputs": [
    {
     "data": {
      "text/plain": [
       "{'$id': 'https://example.com/address.schema.json',\n",
       " '$schema': 'http://json-schema.org/draft-07/schema#',\n",
       " 'title': 'trip',\n",
       " 'description': 'trip request/response',\n",
       " 'type': 'object',\n",
       " 'properties': {'requestVersion': {'description': 'the TIP protocol version',\n",
       "   'type': 'integer',\n",
       "   'minimum': 3},\n",
       "  'requestType': {'description': 'the TIP object type should be trip',\n",
       "   'type': 'string',\n",
       "   'pattern': '^trip$'},\n",
       "  'options': {'description': 'options for this request',\n",
       "   'type': 'object',\n",
       "   'properties': {'title': {'type': 'string'},\n",
       "    'earthRadius': {'type': 'string',\n",
       "     'pattern': '(^\\\\+?[0-9]*[1-9][0-9]*(\\\\.[0-9]+)?$)|(^\\\\+?[0]+\\\\.[0-9]*[1-9][0-9]*$)'}},\n",
       "   'required': ['earthRadius']},\n",
       "  'places': {'description': 'list of places to visit',\n",
       "   'type': 'array',\n",
       "   'items': {'type': 'object',\n",
       "    'properties': {'name': {'type': 'string'},\n",
       "     'latitude': {'type': 'string',\n",
       "      'pattern': '^[-+]?(?:90(?:(?:\\\\.0+)?)|(?:[0-9]|[1-8][0-9])(?:(?:\\\\.[0-9]+)?))$'},\n",
       "     'longitude': {'type': 'string',\n",
       "      'pattern': '^[-+]?(?:180(?:(?:\\\\.0+)?)|(?:[0-9]|[1-9][0-9]|1[0-7][0-9])(?:(?:\\\\.[0-9]+)?))$'}},\n",
       "    'required': ['name', 'latitude', 'longitude'],\n",
       "    'additionalProperties': True},\n",
       "   'minitems': 0},\n",
       "  'distances': {'description': 'distances between corresponding places',\n",
       "   'type': 'array',\n",
       "   'items': {'type': 'integer', 'minimum': 0},\n",
       "   'minitems': 0}},\n",
       " 'required': ['requestVersion', 'requestType', 'options', 'places'],\n",
       " 'additionalProperties': False}"
      ]
     },
     "execution_count": 15,
     "metadata": {},
     "output_type": "execute_result"
    }
   ],
   "source": [
    "with open('/media/sanketm/Data/Temp/CS314/csucs314fa20-repo/product/protocol/TripRequest.json','r') as f:\n",
    "    trip_jsonschema = json.load(f)\n",
    "trip_jsonschema"
   ]
  },
  {
   "cell_type": "code",
   "execution_count": 16,
   "metadata": {},
   "outputs": [
    {
     "data": {
      "text/plain": [
       "'/media/sanketm/Data/Temp/CS314/csucs314fa20-repo/students/tests/sprint2/aericjw-distance.json'"
      ]
     },
     "execution_count": 16,
     "metadata": {},
     "output_type": "execute_result"
    }
   ],
   "source": [
    "all_jsons[0]"
   ]
  },
  {
   "cell_type": "markdown",
   "metadata": {},
   "source": [
    "### Testing the jsonschema package"
   ]
  },
  {
   "cell_type": "code",
   "execution_count": 17,
   "metadata": {},
   "outputs": [
    {
     "data": {
      "text/plain": [
       "'/media/sanketm/Data/Temp/CS314/csucs314fa20-repo/students/tests/sprint2/aericjw-distance.json'"
      ]
     },
     "execution_count": 17,
     "metadata": {},
     "output_type": "execute_result"
    }
   ],
   "source": [
    "all_jsons[0]"
   ]
  },
  {
   "cell_type": "code",
   "execution_count": 18,
   "metadata": {},
   "outputs": [
    {
     "name": "stdout",
     "output_type": "stream",
     "text": [
      "file ./cmar1299-distance.json does not match the schema\n",
      "file ./fosterm4-distance.json does not match the schema\n",
      "file ./gdeyoung-distance.json does not match the schema\n",
      "File ./hlingle-distance.json is not valid json\n",
      "File ./jabayless-distance.json is not valid json\n",
      "File ./mbauers-distance.json is not valid json\n",
      "file ./mikep99-distance.json does not match the schema\n",
      "file ./moise-distance.json does not match the schema\n",
      "file ./rylied-distance.json does not match the schema\n",
      "File ./smunoz-distance.json is not valid json\n",
      "file ./thomas41-distance.json does not match the schema\n",
      "file ./wckelly-distance.json does not match the schema\n"
     ]
    }
   ],
   "source": [
    "#install via pip install jsonschema, docs at https://python-jsonschema.readthedocs.io/en/stable\n",
    "from jsonschema import Draft7Validator\n",
    "for file in glob.glob('./*-distance.json'):\n",
    "    with open(file,'r') as f:\n",
    "        try:\n",
    "            contents = json.load(f)\n",
    "            try:\n",
    "                Draft7Validator(distance_jsonschema).validate(contents)\n",
    "            except:\n",
    "                print(f\"file {file} does not match the schema\")\n",
    "        except:\n",
    "            print(f\"File {file} is not valid json\")"
   ]
  },
  {
   "cell_type": "code",
   "execution_count": 19,
   "metadata": {},
   "outputs": [
    {
     "name": "stdout",
     "output_type": "stream",
     "text": [
      "file ./barelads-find.json does not match the schema\n",
      "File ./fonsecao-find.json is not valid json\n",
      "file ./idmunro19-find.json does not match the schema\n",
      "File ./jabayless-find.json is not valid json\n",
      "File ./kwreindl-find.json is not valid json\n",
      "File ./nguyenh-find.json is not valid json\n",
      "file ./rbclark-find.json does not match the schema\n",
      "File ./xinyi99-find.json is not valid json\n"
     ]
    }
   ],
   "source": [
    "#install via pip install jsonschema, docs at https://python-jsonschema.readthedocs.io/en/stable\n",
    "from jsonschema import Draft7Validator\n",
    "for file in glob.glob('./*-find.json'):\n",
    "    with open(file,'r') as f:\n",
    "        try:\n",
    "            contents = json.load(f)\n",
    "            try:\n",
    "                Draft7Validator(find_jsonschema).validate(contents)\n",
    "            except:\n",
    "                print(f\"file {file} does not match the schema\")\n",
    "        except:\n",
    "            print(f\"File {file} is not valid json\")"
   ]
  },
  {
   "cell_type": "code",
   "execution_count": 20,
   "metadata": {},
   "outputs": [],
   "source": [
    "# #install via pip install jsonschema, docs at https://python-jsonschema.readthedocs.io/en/stable\n",
    "# from jsonschema import Draft7Validator\n",
    "# for file in glob.glob('./*.json'):\n",
    "#     with open(file,'r') as f:\n",
    "#         try:\n",
    "#             contents = json.load(f)\n",
    "#             try:\n",
    "#                 Draft7Validator(trip_jsonschema).validate(contents)\n",
    "#                 print(f\"file {file} matches the schema\")\n",
    "#             except:\n",
    "#                 print(f\"file {file} does not match the schema\")\n",
    "#         except:\n",
    "#             print(f\"File {file} is not valid json\")"
   ]
  },
  {
   "cell_type": "markdown",
   "metadata": {},
   "source": [
    "### Writing the whole loop"
   ]
  },
  {
   "cell_type": "markdown",
   "metadata": {},
   "source": [
    "TODO: Make robust by removing hardcoded request type checks. instead read all requests.jsons in product/protocol and check if the submitted file contents request type tag matches any names then match those names schemas."
   ]
  },
  {
   "cell_type": "code",
   "execution_count": 21,
   "metadata": {},
   "outputs": [],
   "source": [
    "# unhandled = [x for x in all_jsons if len(x.split('/')[-1].split(\"-\")) > 2]\n",
    "# for x in unhandled: print(x)\n",
    "# print(len(all_jsons))\n",
    "# all_jsons = [a for a in all_jsons if a not in unhandled]\n",
    "# print(len(all_jsons))"
   ]
  },
  {
   "cell_type": "code",
   "execution_count": 46,
   "metadata": {},
   "outputs": [
    {
     "data": {
      "text/plain": [
       "'./aericjw-distance.json'"
      ]
     },
     "execution_count": 46,
     "metadata": {},
     "output_type": "execute_result"
    }
   ],
   "source": [
    "os.chdir('/media/sanketm/Data/Temp/CS314/csucs314fa20-repo/students/tests/sprint2/')\n",
    "all_jsons = glob.glob('./**.json') # get list of all json files\n",
    "all_jsons[0]"
   ]
  },
  {
   "cell_type": "code",
   "execution_count": 47,
   "metadata": {},
   "outputs": [
    {
     "name": "stdout",
     "output_type": "stream",
     "text": [
      "aericjw has distance\n",
      "aericjw has find\n",
      "ah00t13 has distance\n",
      "ah00t13 has find\n",
      "alecmilt has distance\n",
      "alecmilt has find\n",
      "augustai has distance\n",
      "augustai has find\n",
      "backlira has distance\n",
      "backlira has find\n",
      "barelads has distance\n",
      "barelads has find\n",
      "file ./barelads-find.json does not match the schema\n",
      "bcombs18 has distance\n",
      "bcombs18 has find\n",
      "benschra has distance\n",
      "benschra has find\n",
      "bobbycsu has find\n",
      "braedens has distance\n",
      "braedens has find\n",
      "camconn has distance\n",
      "camconn has find\n",
      "caustin has distance\n",
      "caustin has find\n",
      "cessna17 has distance\n",
      "cessna17 has find\n",
      "ch85 has distance\n",
      "ch85 has find\n",
      "chenhui has distance\n",
      "chenhui has find\n",
      "cmar1299 has distance\n",
      "file ./cmar1299-distance.json does not match the schema\n",
      "cmar1299 has find\n",
      "colecole has distance\n",
      "connorsw has distance\n",
      "connorsw has find\n",
      "criech5 has distance\n",
      "criech5 has find\n",
      "cwernsma has distance\n",
      "cwernsma has find\n",
      "darinh has distance\n",
      "darinh has find\n",
      "dbilbao has distance\n",
      "dbilbao has find\n",
      "deionus has distance\n",
      "deionus has find\n",
      "drew21 has distance\n",
      "drew21 has find\n",
      "eberleben15 has distance\n",
      "edvarela has distance\n",
      "edvarela has find\n",
      "eyreda has find\n",
      "fonsecao has distance\n",
      "fonsecao has find\n",
      "./fonsecao-find.json is invalid \n",
      "fosterm4 has distance\n",
      "file ./fosterm4-distance.json does not match the schema\n",
      "frankyg has distance\n",
      "frankyg has find\n",
      "futurion has distance\n",
      "futurion has find\n",
      "gaviguy has distance\n",
      "gaviguy has find\n",
      "file ./gdeyoung-distance.json does not match the schema\n",
      "gianni99 has distance\n",
      "gianni99 has find\n",
      "bobbycsu has distance\n",
      "colecole has find\n",
      "eberleben15 has find\n",
      "jgarc110 has find\n",
      "kwreindl has distance\n",
      "meyassu has distance\n",
      "nbell has find\n",
      "rbclark has distance\n",
      "tgifford has distance\n",
      "hlingle has distance\n",
      "./hlingle-distance.json is invalid \n",
      "hlingle has find\n",
      "ico has distance\n",
      "ico has find\n",
      "file ./idmunro19-find.json does not match the schema\n",
      "it has distance\n",
      "it has find\n",
      "jabayless has distance\n",
      "./jabayless-distance.json is invalid \n",
      "jabayless has find\n",
      "./jabayless-find.json is invalid \n",
      "jacce522 has distance\n",
      "jacce522 has find\n",
      "jeyost has distance\n",
      "jeyost has find\n",
      "jgarc110 has distance\n",
      "jiajin has distance\n",
      "jiajin has find\n",
      "jimit has distance\n",
      "jimit has find\n",
      "jnelson3 has distance\n",
      "jnelson3 has find\n",
      "jrogers0 has distance\n",
      "jrogers0 has find\n",
      "kathank has distance\n",
      "kathank has find\n",
      "kc7 has distance\n",
      "kc7 has find\n",
      "kingat has distance\n",
      "kingat has find\n",
      "krwalsh1 has distance\n",
      "krwalsh1 has find\n",
      "kwreindl has find\n",
      "./kwreindl-find.json is invalid \n",
      "lukas001 has distance\n",
      "lukas001 has find\n",
      "markag has distance\n",
      "markag has find\n",
      "mary4 has distance\n",
      "mary4 has find\n",
      "mat1121 has distance\n",
      "mat1121 has find\n",
      "matt1985 has distance\n",
      "matt1985 has find\n",
      "mattv has distance\n",
      "mbauers has distance\n",
      "./mbauers-distance.json is invalid \n",
      "mbauers has find\n",
      "melvin42 has distance\n",
      "melvin42 has find\n",
      "meyassu has find\n",
      "mfernst has distance\n",
      "mfernst has find\n",
      "mikep99 has distance\n",
      "file ./mikep99-distance.json does not match the schema\n",
      "mikep99 has find\n",
      "moise has distance\n",
      "file ./moise-distance.json does not match the schema\n",
      "moise has find\n",
      "moranale has distance\n",
      "moranale has find\n",
      "mrule has distance\n",
      "mrule has find\n",
      "mvanderi has distance\n",
      "mvanderi has find\n",
      "mxnieb has distance\n",
      "mxnieb has find\n",
      "nbell has distance\n",
      "nd0905 has distance\n",
      "nd0905 has find\n",
      "neema has distance\n",
      "neema has find\n",
      "nguyenh has distance\n",
      "nguyenh has find\n",
      "./nguyenh-find.json is invalid \n",
      "nickhett has distance\n",
      "nickhett has find\n",
      "pdunton has distance\n",
      "pdunton has find\n",
      "petterle has distance\n",
      "petterle has find\n",
      "raghd has distance\n",
      "raghd has find\n",
      "rbclark has find\n",
      "file ./rbclark-find.json does not match the schema\n",
      "rkopacz has distance\n",
      "rkopacz has find\n",
      "rloptien has distance\n",
      "rloptien has find\n",
      "rylied has distance\n",
      "file ./rylied-distance.json does not match the schema\n",
      "rylied has find\n",
      "shlok has distance\n",
      "shlok has find\n",
      "smunoz has distance\n",
      "./smunoz-distance.json is invalid \n",
      "smunoz has find\n",
      "suyashh has distance\n",
      "suyashh has find\n",
      "tancle has distance\n",
      "tancle has find\n",
      "tgifford has find\n",
      "thomas41 has distance\n",
      "file ./thomas41-distance.json does not match the schema\n",
      "thomas41 has find\n",
      "tjpatt has distance\n",
      "tjpatt has find\n",
      "treescru has distance\n",
      "treescru has find\n",
      "trentonw has distance\n",
      "trentonw has find\n",
      "tri has distance\n",
      "tri has find\n",
      "wckelly has distance\n",
      "file ./wckelly-distance.json does not match the schema\n",
      "wckelly has find\n",
      "xinyi99 has distance\n",
      "xinyi99 has find\n",
      "./xinyi99-find.json is invalid \n",
      "yiboxu has distance\n",
      "yiboxu has find\n",
      "zwikel has distance\n",
      "zwikel has find\n"
     ]
    }
   ],
   "source": [
    "student_dict = {}\n",
    "\n",
    "for file in all_jsons:    \n",
    "    with open(file, 'r') as f:\n",
    "        #eids are always one word so this works\n",
    "        eid = file.split(\"/\")[-1].split(\"-\")[0] # splitting. / shlok - distance.json to get shlok\n",
    "        req = file.split(\"/\")[-1].split(\"-\")[1].split(\".\")[0]  # splitting. / shlok - distance.json to get distance\n",
    "        eid = eid.lower()\n",
    "        req = req.lower()\n",
    "        \n",
    "        student_rec = student_dict.get(eid, {})\n",
    "        \n",
    "        if eid in student_eid:\n",
    "\n",
    "            ## valid file_name , give points for valid filename,\n",
    "            ##Then check valid json\n",
    "            ##otherwise skip the valid filename points and jump to json load and schema validations conditions\n",
    "            if req == 'find':\n",
    "                print(f\"{eid} has find\")\n",
    "                student_rec['submitted find with eid'] = 1\n",
    "                student_rec['find_filename'] = file\n",
    "                \n",
    "            if req == 'distance':\n",
    "                print(f\"{eid} has distance\")\n",
    "                student_rec['submitted distance with eid'] = 1\n",
    "                student_rec['distance_filename'] = file\n",
    "            \n",
    "            if req == 'trip':\n",
    "                print(f\"{eid} has trip\")\n",
    "                student_rec['submitted trip with eid'] = 1\n",
    "                student_rec['trip_filename'] = file\n",
    "        \n",
    "        elif eid in student_githubs: \n",
    "            #Github ids can be two words like 'evan-fitzpatrick' so we have to handle the file name differently.\n",
    "            if req == 'find':\n",
    "                print(f\"{eid} has find\")\n",
    "                student_rec['submitted find with github id'] = 1\n",
    "                student_rec['find_filename'] = file\n",
    "                \n",
    "            if req == 'distance':\n",
    "                print(f\"{eid} has distance\")\n",
    "                student_rec['submitted distance with github id'] = 1\n",
    "                student_rec['distance_filename'] = file\n",
    "            \n",
    "            if req == 'trip':\n",
    "                print(f\"{eid} has trip\")\n",
    "                student_rec['submitted trip with github id'] = 1\n",
    "                student_rec['trip_filename'] = file\n",
    "        else:\n",
    "            # student has submitted file with other file name like github_request or fullname_request\n",
    "            student_rec['invalid_file'] = 1\n",
    "            student_rec['comment'] = \"Student's filename: \"+ file +\"was not in the format eid_request or github_request, so was not valid.\" \n",
    "            if student_rec.get('invalid_filename',{}) == {}: \n",
    "                student_rec['invalid_filename'] = str(file)\n",
    "            else:\n",
    "                student_rec['invalid_filename1'] = str(file)\n",
    "\n",
    "        try:\n",
    "#             print(f\"Loading JSON {f}\")\n",
    "            json_file = json.load(f)\n",
    "            if json_file:\n",
    "                \n",
    "                if json_file['requestType'] == 'find':\n",
    "                    student_rec['valid find json'] = 1\n",
    "                    try:\n",
    "                        Draft7Validator(find_jsonschema).validate(json_file)\n",
    "                        student_rec['find match schema'] = 1\n",
    "                    except:\n",
    "                        print(f\"file {file} does not match the schema\")\n",
    "                        student_rec['find match schema'] = 0\n",
    "                    \n",
    "                if json_file['requestType'] == 'distance':\n",
    "                    student_rec['valid distance json'] = 1\n",
    "                    try:\n",
    "                        Draft7Validator(distance_jsonschema).validate(json_file)\n",
    "                        student_rec['distance match schema'] = 1\n",
    "                    except:\n",
    "                        print(f\"file {file} does not match the schema\")\n",
    "                        student_rec['distance match schema'] = 0\n",
    "\n",
    "                if json_file['requestType'] == 'trip':\n",
    "                    student_rec['valid trip json'] = 1\n",
    "                    try:\n",
    "                        Draft7Validator(trip_jsonschema).validate(json_file)\n",
    "                        student_rec['trip match schema'] = 1\n",
    "                    except:\n",
    "                        print(f\"file {file} does not match the schema\")\n",
    "                        student_rec['trip match schema'] = 0\n",
    "\n",
    "        except:\n",
    "            print(f\"{file} is invalid \")\n",
    "            if req == 'find':\n",
    "                student_rec['invalid find json'] = 1\n",
    "\n",
    "            if req == 'distance':\n",
    "                student_rec['invalid distance json'] = 1\n",
    "\n",
    "            if req == 'trip':\n",
    "                student_rec['invalid trip json'] = 1\n",
    "\n",
    "            student_rec['comment'] = \"json file could not load so not valid.\" \n",
    "            student_rec['invalid_file'] = 1\n",
    "            if student_rec.get('invalid_filename',{}) == {}: \n",
    "                student_rec['invalid_filename'] = file\n",
    "            else:\n",
    "                student_rec['invalid_filename1'] = str(file)\n",
    "\n",
    "        student_dict[eid] = student_rec"
   ]
  },
  {
   "cell_type": "markdown",
   "metadata": {},
   "source": [
    "### Handling names that are not in the eids list or the github ids list"
   ]
  },
  {
   "cell_type": "code",
   "execution_count": 48,
   "metadata": {},
   "outputs": [],
   "source": [
    "# for name in student_eid:\n",
    "#     if name not in student_dict.keys():\n",
    "#         student_rec = {}\n",
    "#         student_rec['submitted find'] = 0\n",
    "#         student_rec['submitted distance'] = 0\n",
    "#         student_dict[name] = student_rec"
   ]
  },
  {
   "cell_type": "code",
   "execution_count": 49,
   "metadata": {},
   "outputs": [],
   "source": [
    "# print(student_dict)"
   ]
  },
  {
   "cell_type": "markdown",
   "metadata": {},
   "source": [
    "### Cleanup and writing to file"
   ]
  },
  {
   "cell_type": "code",
   "execution_count": 50,
   "metadata": {},
   "outputs": [
    {
     "data": {
      "text/plain": [
       "97"
      ]
     },
     "execution_count": 50,
     "metadata": {},
     "output_type": "execute_result"
    }
   ],
   "source": [
    "len(student_dict)"
   ]
  },
  {
   "cell_type": "code",
   "execution_count": 51,
   "metadata": {},
   "outputs": [],
   "source": [
    "for key in ['cs314','kaseda','sanketm','zhouxy','dzuigas','dziugas']:\n",
    "    if student_dict.get(key,[]) != []:\n",
    "        del(student_dict[key])"
   ]
  },
  {
   "cell_type": "code",
   "execution_count": 52,
   "metadata": {},
   "outputs": [
    {
     "data": {
      "text/plain": [
       "97"
      ]
     },
     "execution_count": 52,
     "metadata": {},
     "output_type": "execute_result"
    }
   ],
   "source": [
    "len(student_dict)"
   ]
  },
  {
   "cell_type": "code",
   "execution_count": 53,
   "metadata": {},
   "outputs": [],
   "source": [
    "import pandas as pd\n",
    "df = pd.DataFrame().from_dict(student_dict)\n",
    "df = df.fillna(0)\n",
    "df = df.transpose()"
   ]
  },
  {
   "cell_type": "code",
   "execution_count": 54,
   "metadata": {},
   "outputs": [
    {
     "data": {
      "text/html": [
       "<div>\n",
       "<style scoped>\n",
       "    .dataframe tbody tr th:only-of-type {\n",
       "        vertical-align: middle;\n",
       "    }\n",
       "\n",
       "    .dataframe tbody tr th {\n",
       "        vertical-align: top;\n",
       "    }\n",
       "\n",
       "    .dataframe thead th {\n",
       "        text-align: right;\n",
       "    }\n",
       "</style>\n",
       "<table border=\"1\" class=\"dataframe\">\n",
       "  <thead>\n",
       "    <tr style=\"text-align: right;\">\n",
       "      <th></th>\n",
       "      <th>submitted distance with github id</th>\n",
       "      <th>distance_filename</th>\n",
       "      <th>valid distance json</th>\n",
       "      <th>distance match schema</th>\n",
       "      <th>submitted find with github id</th>\n",
       "      <th>find_filename</th>\n",
       "      <th>valid find json</th>\n",
       "      <th>find match schema</th>\n",
       "      <th>submitted distance with eid</th>\n",
       "      <th>submitted find with eid</th>\n",
       "      <th>invalid_file</th>\n",
       "      <th>comment</th>\n",
       "      <th>invalid_filename</th>\n",
       "      <th>invalid find json</th>\n",
       "      <th>invalid_filename1</th>\n",
       "      <th>invalid distance json</th>\n",
       "    </tr>\n",
       "  </thead>\n",
       "  <tbody>\n",
       "    <tr>\n",
       "      <th>aericjw</th>\n",
       "      <td>1</td>\n",
       "      <td>./aericjw-distance.json</td>\n",
       "      <td>1</td>\n",
       "      <td>1</td>\n",
       "      <td>1</td>\n",
       "      <td>./aericjw-find.json</td>\n",
       "      <td>1</td>\n",
       "      <td>1</td>\n",
       "      <td>0</td>\n",
       "      <td>0</td>\n",
       "      <td>0</td>\n",
       "      <td>0</td>\n",
       "      <td>0</td>\n",
       "      <td>0</td>\n",
       "      <td>0</td>\n",
       "      <td>0</td>\n",
       "    </tr>\n",
       "    <tr>\n",
       "      <th>ah00t13</th>\n",
       "      <td>0</td>\n",
       "      <td>./ah00t13-distance.json</td>\n",
       "      <td>1</td>\n",
       "      <td>1</td>\n",
       "      <td>0</td>\n",
       "      <td>./ah00t13-find.json</td>\n",
       "      <td>1</td>\n",
       "      <td>1</td>\n",
       "      <td>1</td>\n",
       "      <td>1</td>\n",
       "      <td>0</td>\n",
       "      <td>0</td>\n",
       "      <td>0</td>\n",
       "      <td>0</td>\n",
       "      <td>0</td>\n",
       "      <td>0</td>\n",
       "    </tr>\n",
       "    <tr>\n",
       "      <th>alecmilt</th>\n",
       "      <td>0</td>\n",
       "      <td>./alecmilt-distance.json</td>\n",
       "      <td>1</td>\n",
       "      <td>1</td>\n",
       "      <td>0</td>\n",
       "      <td>./alecmilt-find.json</td>\n",
       "      <td>1</td>\n",
       "      <td>1</td>\n",
       "      <td>1</td>\n",
       "      <td>1</td>\n",
       "      <td>0</td>\n",
       "      <td>0</td>\n",
       "      <td>0</td>\n",
       "      <td>0</td>\n",
       "      <td>0</td>\n",
       "      <td>0</td>\n",
       "    </tr>\n",
       "    <tr>\n",
       "      <th>augustai</th>\n",
       "      <td>0</td>\n",
       "      <td>./augustai-distance.json</td>\n",
       "      <td>1</td>\n",
       "      <td>1</td>\n",
       "      <td>0</td>\n",
       "      <td>./augustai-find.json</td>\n",
       "      <td>1</td>\n",
       "      <td>1</td>\n",
       "      <td>1</td>\n",
       "      <td>1</td>\n",
       "      <td>0</td>\n",
       "      <td>0</td>\n",
       "      <td>0</td>\n",
       "      <td>0</td>\n",
       "      <td>0</td>\n",
       "      <td>0</td>\n",
       "    </tr>\n",
       "    <tr>\n",
       "      <th>backlira</th>\n",
       "      <td>0</td>\n",
       "      <td>./backlira-distance.json</td>\n",
       "      <td>1</td>\n",
       "      <td>1</td>\n",
       "      <td>0</td>\n",
       "      <td>./backlira-find.json</td>\n",
       "      <td>1</td>\n",
       "      <td>1</td>\n",
       "      <td>1</td>\n",
       "      <td>1</td>\n",
       "      <td>0</td>\n",
       "      <td>0</td>\n",
       "      <td>0</td>\n",
       "      <td>0</td>\n",
       "      <td>0</td>\n",
       "      <td>0</td>\n",
       "    </tr>\n",
       "    <tr>\n",
       "      <th>...</th>\n",
       "      <td>...</td>\n",
       "      <td>...</td>\n",
       "      <td>...</td>\n",
       "      <td>...</td>\n",
       "      <td>...</td>\n",
       "      <td>...</td>\n",
       "      <td>...</td>\n",
       "      <td>...</td>\n",
       "      <td>...</td>\n",
       "      <td>...</td>\n",
       "      <td>...</td>\n",
       "      <td>...</td>\n",
       "      <td>...</td>\n",
       "      <td>...</td>\n",
       "      <td>...</td>\n",
       "      <td>...</td>\n",
       "    </tr>\n",
       "    <tr>\n",
       "      <th>wckelly</th>\n",
       "      <td>0</td>\n",
       "      <td>./wckelly-distance.json</td>\n",
       "      <td>1</td>\n",
       "      <td>0</td>\n",
       "      <td>0</td>\n",
       "      <td>./wckelly-find.json</td>\n",
       "      <td>1</td>\n",
       "      <td>1</td>\n",
       "      <td>1</td>\n",
       "      <td>1</td>\n",
       "      <td>0</td>\n",
       "      <td>0</td>\n",
       "      <td>0</td>\n",
       "      <td>0</td>\n",
       "      <td>0</td>\n",
       "      <td>0</td>\n",
       "    </tr>\n",
       "    <tr>\n",
       "      <th>wyatt</th>\n",
       "      <td>0</td>\n",
       "      <td>0</td>\n",
       "      <td>1</td>\n",
       "      <td>1</td>\n",
       "      <td>0</td>\n",
       "      <td>0</td>\n",
       "      <td>1</td>\n",
       "      <td>1</td>\n",
       "      <td>0</td>\n",
       "      <td>0</td>\n",
       "      <td>1</td>\n",
       "      <td>Student's filename: ./wyatt-temple-find.jsonwa...</td>\n",
       "      <td>./wyatt-temple-distance.json</td>\n",
       "      <td>0</td>\n",
       "      <td>./wyatt-temple-find.json</td>\n",
       "      <td>0</td>\n",
       "    </tr>\n",
       "    <tr>\n",
       "      <th>xinyi99</th>\n",
       "      <td>0</td>\n",
       "      <td>./xinyi99-distance.json</td>\n",
       "      <td>1</td>\n",
       "      <td>1</td>\n",
       "      <td>0</td>\n",
       "      <td>./xinyi99-find.json</td>\n",
       "      <td>0</td>\n",
       "      <td>0</td>\n",
       "      <td>1</td>\n",
       "      <td>1</td>\n",
       "      <td>1</td>\n",
       "      <td>json file could not load so not valid.</td>\n",
       "      <td>./xinyi99-find.json</td>\n",
       "      <td>1</td>\n",
       "      <td>0</td>\n",
       "      <td>0</td>\n",
       "    </tr>\n",
       "    <tr>\n",
       "      <th>yiboxu</th>\n",
       "      <td>0</td>\n",
       "      <td>./yiboxu-distance.json</td>\n",
       "      <td>1</td>\n",
       "      <td>1</td>\n",
       "      <td>0</td>\n",
       "      <td>./yiboxu-find.json</td>\n",
       "      <td>1</td>\n",
       "      <td>1</td>\n",
       "      <td>1</td>\n",
       "      <td>1</td>\n",
       "      <td>0</td>\n",
       "      <td>0</td>\n",
       "      <td>0</td>\n",
       "      <td>0</td>\n",
       "      <td>0</td>\n",
       "      <td>0</td>\n",
       "    </tr>\n",
       "    <tr>\n",
       "      <th>zwikel</th>\n",
       "      <td>0</td>\n",
       "      <td>./zwikel-distance.json</td>\n",
       "      <td>1</td>\n",
       "      <td>1</td>\n",
       "      <td>0</td>\n",
       "      <td>./zwikel-find.json</td>\n",
       "      <td>1</td>\n",
       "      <td>1</td>\n",
       "      <td>1</td>\n",
       "      <td>1</td>\n",
       "      <td>0</td>\n",
       "      <td>0</td>\n",
       "      <td>0</td>\n",
       "      <td>0</td>\n",
       "      <td>0</td>\n",
       "      <td>0</td>\n",
       "    </tr>\n",
       "  </tbody>\n",
       "</table>\n",
       "<p>97 rows × 16 columns</p>\n",
       "</div>"
      ],
      "text/plain": [
       "         submitted distance with github id         distance_filename  \\\n",
       "aericjw                                  1   ./aericjw-distance.json   \n",
       "ah00t13                                  0   ./ah00t13-distance.json   \n",
       "alecmilt                                 0  ./alecmilt-distance.json   \n",
       "augustai                                 0  ./augustai-distance.json   \n",
       "backlira                                 0  ./backlira-distance.json   \n",
       "...                                    ...                       ...   \n",
       "wckelly                                  0   ./wckelly-distance.json   \n",
       "wyatt                                    0                         0   \n",
       "xinyi99                                  0   ./xinyi99-distance.json   \n",
       "yiboxu                                   0    ./yiboxu-distance.json   \n",
       "zwikel                                   0    ./zwikel-distance.json   \n",
       "\n",
       "         valid distance json distance match schema  \\\n",
       "aericjw                    1                     1   \n",
       "ah00t13                    1                     1   \n",
       "alecmilt                   1                     1   \n",
       "augustai                   1                     1   \n",
       "backlira                   1                     1   \n",
       "...                      ...                   ...   \n",
       "wckelly                    1                     0   \n",
       "wyatt                      1                     1   \n",
       "xinyi99                    1                     1   \n",
       "yiboxu                     1                     1   \n",
       "zwikel                     1                     1   \n",
       "\n",
       "         submitted find with github id         find_filename valid find json  \\\n",
       "aericjw                              1   ./aericjw-find.json               1   \n",
       "ah00t13                              0   ./ah00t13-find.json               1   \n",
       "alecmilt                             0  ./alecmilt-find.json               1   \n",
       "augustai                             0  ./augustai-find.json               1   \n",
       "backlira                             0  ./backlira-find.json               1   \n",
       "...                                ...                   ...             ...   \n",
       "wckelly                              0   ./wckelly-find.json               1   \n",
       "wyatt                                0                     0               1   \n",
       "xinyi99                              0   ./xinyi99-find.json               0   \n",
       "yiboxu                               0    ./yiboxu-find.json               1   \n",
       "zwikel                               0    ./zwikel-find.json               1   \n",
       "\n",
       "         find match schema submitted distance with eid  \\\n",
       "aericjw                  1                           0   \n",
       "ah00t13                  1                           1   \n",
       "alecmilt                 1                           1   \n",
       "augustai                 1                           1   \n",
       "backlira                 1                           1   \n",
       "...                    ...                         ...   \n",
       "wckelly                  1                           1   \n",
       "wyatt                    1                           0   \n",
       "xinyi99                  0                           1   \n",
       "yiboxu                   1                           1   \n",
       "zwikel                   1                           1   \n",
       "\n",
       "         submitted find with eid invalid_file  \\\n",
       "aericjw                        0            0   \n",
       "ah00t13                        1            0   \n",
       "alecmilt                       1            0   \n",
       "augustai                       1            0   \n",
       "backlira                       1            0   \n",
       "...                          ...          ...   \n",
       "wckelly                        1            0   \n",
       "wyatt                          0            1   \n",
       "xinyi99                        1            1   \n",
       "yiboxu                         1            0   \n",
       "zwikel                         1            0   \n",
       "\n",
       "                                                    comment  \\\n",
       "aericjw                                                   0   \n",
       "ah00t13                                                   0   \n",
       "alecmilt                                                  0   \n",
       "augustai                                                  0   \n",
       "backlira                                                  0   \n",
       "...                                                     ...   \n",
       "wckelly                                                   0   \n",
       "wyatt     Student's filename: ./wyatt-temple-find.jsonwa...   \n",
       "xinyi99              json file could not load so not valid.   \n",
       "yiboxu                                                    0   \n",
       "zwikel                                                    0   \n",
       "\n",
       "                      invalid_filename invalid find json  \\\n",
       "aericjw                              0                 0   \n",
       "ah00t13                              0                 0   \n",
       "alecmilt                             0                 0   \n",
       "augustai                             0                 0   \n",
       "backlira                             0                 0   \n",
       "...                                ...               ...   \n",
       "wckelly                              0                 0   \n",
       "wyatt     ./wyatt-temple-distance.json                 0   \n",
       "xinyi99            ./xinyi99-find.json                 1   \n",
       "yiboxu                               0                 0   \n",
       "zwikel                               0                 0   \n",
       "\n",
       "                 invalid_filename1 invalid distance json  \n",
       "aericjw                          0                     0  \n",
       "ah00t13                          0                     0  \n",
       "alecmilt                         0                     0  \n",
       "augustai                         0                     0  \n",
       "backlira                         0                     0  \n",
       "...                            ...                   ...  \n",
       "wckelly                          0                     0  \n",
       "wyatt     ./wyatt-temple-find.json                     0  \n",
       "xinyi99                          0                     0  \n",
       "yiboxu                           0                     0  \n",
       "zwikel                           0                     0  \n",
       "\n",
       "[97 rows x 16 columns]"
      ]
     },
     "execution_count": 54,
     "metadata": {},
     "output_type": "execute_result"
    }
   ],
   "source": [
    "df"
   ]
  },
  {
   "cell_type": "code",
   "execution_count": 55,
   "metadata": {},
   "outputs": [],
   "source": [
    "os.chdir('/media/sanketm/Data/Temp/CS314/gradingandscripts')\n",
    "df.to_csv('eid_sprint2_tests.csv')"
   ]
  },
  {
   "cell_type": "code",
   "execution_count": 32,
   "metadata": {},
   "outputs": [],
   "source": [
    "# with open('eid_sprint2_tests.csv', 'w') as f:\n",
    "#     for key in student_dict.keys():\n",
    "#         f.write(\"%s,%s\\n\"%(key,student_dict[key]))"
   ]
  },
  {
   "cell_type": "code",
   "execution_count": null,
   "metadata": {},
   "outputs": [],
   "source": []
  }
 ],
 "metadata": {
  "kernelspec": {
   "display_name": "Python 3",
   "language": "python",
   "name": "python3"
  },
  "language_info": {
   "codemirror_mode": {
    "name": "ipython",
    "version": 3
   },
   "file_extension": ".py",
   "mimetype": "text/x-python",
   "name": "python",
   "nbconvert_exporter": "python",
   "pygments_lexer": "ipython3",
   "version": "3.8.3"
  }
 },
 "nbformat": 4,
 "nbformat_minor": 4
}
