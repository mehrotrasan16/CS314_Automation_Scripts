{
 "cells": [
  {
   "cell_type": "code",
   "execution_count": 1,
   "metadata": {},
   "outputs": [],
   "source": [
    "import json\n",
    "import os\n",
    "import glob\n",
    "os.chdir('/media/sanketm/Data/Temp/CS314/csucs314fa20-repo/students/tests/sprint2') # path to the students repo"
   ]
  },
  {
   "cell_type": "code",
   "execution_count": 2,
   "metadata": {},
   "outputs": [
    {
     "name": "stdout",
     "output_type": "stream",
     "text": [
      "Already up to date.\n"
     ]
    }
   ],
   "source": [
    "!git pull"
   ]
  },
  {
   "cell_type": "code",
   "execution_count": 3,
   "metadata": {},
   "outputs": [
    {
     "data": {
      "text/plain": [
       "{'github': 'davemattcsu',\n",
       " 'team': 't00',\n",
       " 'name': 'Dave Matthews',\n",
       " 'eid': 'davematt',\n",
       " 'id': 1,\n",
       " 'section': '001',\n",
       " 'dev': '34100',\n",
       " 'sprint': '31400',\n",
       " 'language': 'java'}"
      ]
     },
     "execution_count": 3,
     "metadata": {},
     "output_type": "execute_result"
    }
   ],
   "source": [
    "student_deets = json.load(open('/media/sanketm/Data/Temp/CS314/gradingandscripts/people.json','r'))\n",
    "student_deets[0]"
   ]
  },
  {
   "cell_type": "code",
   "execution_count": 4,
   "metadata": {},
   "outputs": [],
   "source": [
    "student_eid = [a['eid'] for a in student_deets]\n",
    "#student_eid"
   ]
  },
  {
   "cell_type": "code",
   "execution_count": 5,
   "metadata": {},
   "outputs": [],
   "source": [
    "all_jsons = glob.glob('./**.json') # get list of all json files"
   ]
  },
  {
   "cell_type": "code",
   "execution_count": 6,
   "metadata": {},
   "outputs": [
    {
     "name": "stdout",
     "output_type": "stream",
     "text": [
      "aericjw has distance\n",
      "aericjw has find\n",
      "ah00t13 has distance\n",
      "ah00t13 has find\n",
      "alecmilt has distance\n",
      "alecmilt has find\n",
      "augustai has distance\n",
      "augustai has find\n",
      "backlira has distance\n",
      "backlira has find\n",
      "barelads has distance\n",
      "barelads has find\n",
      "bcombs18 has distance\n",
      "bcombs18 has find\n",
      "benschra has distance\n",
      "benschra has find\n",
      "bobbycsu has find\n",
      "braedens has distance\n",
      "braedens has find\n",
      "camconn has distance\n",
      "camconn has find\n",
      "caustin has distance\n",
      "caustin has find\n",
      "cessna17 has distance\n",
      "cessna17 has find\n",
      "ch85 has distance\n",
      "ch85 has find\n",
      "chenhui has distance\n",
      "chenhui has find\n",
      "cmar1299 has distance\n",
      "cmar1299 has find\n",
      "colecole has distance\n",
      "connorsw has distance\n",
      "connorsw has find\n",
      "criech5 has distance\n",
      "criech5 has find\n",
      "cwernsma has distance\n",
      "cwernsma has find\n",
      "darinh has distance\n",
      "darinh has find\n",
      "davematt has distance\n",
      "dbilbao has distance\n",
      "dbilbao has find\n",
      "deionus has distance\n",
      "deionus has find\n",
      "drew21 has distance\n",
      "drew21 has find\n",
      "eberleben15 has distance\n",
      "edvarela has distance\n",
      "edvarela has find\n",
      "eyreda has find\n",
      "fonsecao has distance\n",
      "fonsecao has find\n",
      "./fonsecao-find.json is invalid \n",
      "{'submitted distance': 0, 'distance_filename': './fonsecao-distance.json', 'valid distance': 1, 'submitted find': 1, 'find_filename': './fonsecao-find.json'}\n",
      "fosterm4 has distance\n",
      "frankyg has distance\n",
      "frankyg has find\n",
      "futurion has distance\n",
      "futurion has find\n",
      "gaviguy has distance\n",
      "gaviguy has find\n",
      "gdeyoung has distance\n",
      "gdeyoung has find\n",
      "gianni99 has distance\n",
      "gianni99 has find\n",
      "bobbycsu has distance\n",
      "colecole has find\n",
      "eberleben15 has find\n",
      "gmartinaitis has distance\n",
      "jgarc110 has find\n",
      "kwreindl has distance\n",
      "meyassu has distance\n",
      "nbell has find\n",
      "rbclark has distance\n",
      "tgifford has distance\n",
      "gmartinaitis has find\n",
      "hlingle has distance\n",
      "./hlingle-distance.json is invalid \n",
      "{'submitted find': 0, 'submitted distance': 1}\n",
      "hlingle has find\n",
      "ico has distance\n",
      "ico has find\n",
      "idmunro19 has distance\n",
      "idmunro19 has find\n",
      "it has distance\n",
      "it has find\n",
      "jabayless has distance\n",
      "./jabayless-distance.json is invalid \n",
      "{'submitted find': 0, 'submitted distance': 1}\n",
      "jabayless has find\n",
      "./jabayless-find.json is invalid \n",
      "{'submitted find': 1, 'submitted distance': 0, 'find_filename': './jabayless-find.json'}\n",
      "jacce522 has distance\n",
      "jacce522 has find\n",
      "jeyost has distance\n",
      "jeyost has find\n",
      "jgarc110 has distance\n",
      "jiajin has distance\n",
      "jiajin has find\n",
      "jimit has distance\n",
      "jimit has find\n",
      "jnelson3 has distance\n",
      "jnelson3 has find\n",
      "jrogers0 has distance\n",
      "jrogers0 has find\n",
      "kathank has distance\n",
      "kathank has find\n",
      "kc7 has distance\n",
      "kc7 has find\n",
      "kingat has distance\n",
      "kingat has find\n",
      "krwalsh1 has distance\n",
      "krwalsh1 has find\n",
      "kwreindl has find\n",
      "./kwreindl-find.json is invalid \n",
      "{'submitted distance': 0, 'distance_filename': './kwreindl-distance.json', 'valid distance': 1, 'submitted find': 1, 'find_filename': './kwreindl-find.json'}\n",
      "lukas001 has distance\n",
      "lukas001 has find\n",
      "markag has distance\n",
      "markag has find\n",
      "mary4 has distance\n",
      "mary4 has find\n",
      "mat1121 has distance\n",
      "mat1121 has find\n",
      "matt1985 has distance\n",
      "matt1985 has find\n",
      "mattv has distance\n",
      "mbauers has distance\n",
      "./mbauers-distance.json is invalid \n",
      "{'submitted find': 0, 'submitted distance': 1}\n",
      "mbauers has find\n",
      "melvin42 has distance\n",
      "melvin42 has find\n",
      "meyassu has find\n",
      "mfernst has distance\n",
      "mfernst has find\n",
      "mikep99 has distance\n",
      "mikep99 has find\n",
      "moise has distance\n",
      "moise has find\n",
      "moranale has distance\n",
      "moranale has find\n",
      "mrule has distance\n",
      "mrule has find\n",
      "mvanderi has distance\n",
      "mvanderi has find\n",
      "mxnieb has distance\n",
      "mxnieb has find\n",
      "nbell has distance\n",
      "nd0905 has distance\n",
      "nd0905 has find\n",
      "neema has distance\n",
      "neema has find\n",
      "nguyenh has distance\n",
      "nguyenh has find\n",
      "./nguyenh-find.json is invalid \n",
      "{'submitted distance': 0, 'distance_filename': './nguyenh-distance.json', 'valid distance': 1, 'submitted find': 1, 'find_filename': './nguyenh-find.json'}\n",
      "nickhett has distance\n",
      "nickhett has find\n",
      "pdunton has distance\n",
      "pdunton has find\n",
      "petterle has distance\n",
      "petterle has find\n",
      "psmith has distance\n",
      "psmith has find\n",
      "raghd has distance\n",
      "raghd has find\n",
      "rbclark has find\n",
      "rkopacz has distance\n",
      "rkopacz has find\n",
      "rloptien has distance\n",
      "rloptien has find\n",
      "rylied has distance\n",
      "rylied has find\n",
      "shlok has distance\n",
      "shlok has find\n",
      "smunoz has distance\n",
      "./smunoz-distance.json is invalid \n",
      "{'submitted find': 0, 'submitted distance': 1}\n",
      "smunoz has find\n",
      "suyashh has distance\n",
      "suyashh has find\n",
      "tancle has distance\n",
      "tancle has find\n",
      "tgifford has find\n",
      "thomas41 has distance\n",
      "thomas41 has find\n",
      "tjpatt has distance\n",
      "tjpatt has find\n",
      "treescru has distance\n",
      "treescru has find\n",
      "trentonw has distance\n",
      "trentonw has find\n",
      "tri has distance\n",
      "tri has find\n",
      "wckelly has distance\n",
      "wckelly has find\n",
      "xinyi99 has distance\n",
      "xinyi99 has find\n",
      "./xinyi99-find.json is invalid \n",
      "{'submitted distance': 0, 'distance_filename': './xinyi99-distance.json', 'valid distance': 1, 'submitted find': 1, 'find_filename': './xinyi99-find.json'}\n",
      "yiboxu has distance\n",
      "yiboxu has find\n",
      "zwikel has distance\n",
      "zwikel has find\n"
     ]
    }
   ],
   "source": [
    "student_dict = {}\n",
    "\n",
    "for file in all_jsons:\n",
    "    with open(file, 'r') as f:\n",
    "        try:\n",
    "            eid = file.split(\"-\")[0].split(\"./\")[1]# splitting. / shlok - distance.json to get shlok\n",
    "            req = file.split(\"-\")[1].split(\".\")[0]# splitting. / shlok - distance.json to get distance\n",
    "            eid = eid.lower()\n",
    "            req = req.lower()\n",
    "\n",
    "            student_rec = student_dict.get(eid, {})\n",
    "\n",
    "            if req == 'find':\n",
    "                print(f\"{eid} has find\")\n",
    "                student_rec['submitted find'] = 1\n",
    "                student_rec['find_filename'] = file\n",
    "#             else:\n",
    "#                 student_rec['submitted find'] = 0\n",
    "            \n",
    "            if req == 'distance':\n",
    "                print(f\"{eid} has distance\")\n",
    "                student_rec['submitted distance'] = 1\n",
    "                student_rec['distance_filename'] = file\n",
    "#             else:\n",
    "#                 student_rec['submitted distance'] = 0\n",
    "                \n",
    "            json_file = json.load(f)      \n",
    "            if json_file:\n",
    "                if req == 'find':\n",
    "                    student_rec['valid find'] = 1\n",
    "#                 else:\n",
    "#                     student_rec['valid find'] = 0\n",
    "                    \n",
    "                if req == 'distance':\n",
    "                    student_rec['valid distance'] = 1\n",
    "#                 else:\n",
    "#                     student_rec['valid distance'] = 0\n",
    "                    \n",
    "                if req not in ['find','distance']:\n",
    "                    student_rec['invalid_filename'] = 1\n",
    "                    student_rec['comment'] = \"Student's filename: \"+ file +\"was not in the format eid_find/distance, so was not valid.\" \n",
    "                    student_rec['invalid_filename'] = file\n",
    "            student_dict[eid] = student_rec\n",
    "        except:\n",
    "            print(f\"{file} is invalid \")\n",
    "            \n",
    "            eid = file.split(\"-\")[0].split(\"./\")[1]# splitting. / shlok - distance.json to get shlok\n",
    "            req = file.split(\"-\")[1].split(\".\")[0]# splitting. / shlok - distance.json to get distance\n",
    "            eid = eid.lower()\n",
    "            req = req.lower()\n",
    "\n",
    "            student_rec = student_dict.get(eid, {})\n",
    "            \n",
    "            if req == 'find':\n",
    "                student_rec['submitted find'] = 1\n",
    "            else:\n",
    "                student_rec['submitted find'] = 0\n",
    "                \n",
    "            if req == 'distance':\n",
    "                student_rec['submitted distance'] = 1\n",
    "            else:\n",
    "                student_rec['submitted distance'] = 0\n",
    "            print(student_rec)\n",
    "            student_dict[eid] = student_rec\n",
    "            #continue\n"
   ]
  },
  {
   "cell_type": "code",
   "execution_count": 7,
   "metadata": {},
   "outputs": [],
   "source": [
    "for name in student_eid:\n",
    "    if name not in student_dict.keys():\n",
    "        student_rec = {}\n",
    "        student_rec['submitted find'] = 0\n",
    "        student_rec['submitted distance'] = 0\n",
    "        student_dict[name] = student_rec\n",
    "    "
   ]
  },
  {
   "cell_type": "code",
   "execution_count": 8,
   "metadata": {},
   "outputs": [
    {
     "name": "stdout",
     "output_type": "stream",
     "text": [
      "{'aericjw': {'submitted distance': 1, 'distance_filename': './aericjw-distance.json', 'valid distance': 1, 'submitted find': 1, 'find_filename': './aericjw-find.json', 'valid find': 1}, 'ah00t13': {'submitted distance': 1, 'distance_filename': './ah00t13-distance.json', 'valid distance': 1, 'submitted find': 1, 'find_filename': './ah00t13-find.json', 'valid find': 1}, 'alecmilt': {'submitted distance': 1, 'distance_filename': './alecmilt-distance.json', 'valid distance': 1, 'submitted find': 1, 'find_filename': './alecmilt-find.json', 'valid find': 1}, 'augustai': {'submitted distance': 1, 'distance_filename': './augustai-distance.json', 'valid distance': 1, 'submitted find': 1, 'find_filename': './augustai-find.json', 'valid find': 1}, 'backlira': {'submitted distance': 1, 'distance_filename': './backlira-distance.json', 'valid distance': 1, 'submitted find': 1, 'find_filename': './backlira-find.json', 'valid find': 1}, 'barelads': {'submitted distance': 1, 'distance_filename': './barelads-distance.json', 'valid distance': 1, 'submitted find': 1, 'find_filename': './barelads-find.json', 'valid find': 1}, 'bcombs18': {'submitted distance': 1, 'distance_filename': './bcombs18-distance.json', 'valid distance': 1, 'submitted find': 1, 'find_filename': './bcombs18-find.json', 'valid find': 1}, 'benschra': {'submitted distance': 1, 'distance_filename': './benschra-distance.json', 'valid distance': 1, 'submitted find': 1, 'find_filename': './benschra-find.json', 'valid find': 1}, 'bobbycsu': {'submitted find': 1, 'find_filename': './bobbycsu-find.json', 'valid find': 1, 'submitted distance': 1, 'distance_filename': './bobbycsu-distance.json', 'valid distance': 1}, 'braedens': {'submitted distance': 1, 'distance_filename': './braedens-distance.json', 'valid distance': 1, 'submitted find': 1, 'find_filename': './braedens-find.json', 'valid find': 1}, 'camconn': {'submitted distance': 1, 'distance_filename': './camconn-distance.json', 'valid distance': 1, 'submitted find': 1, 'find_filename': './camconn-find.json', 'valid find': 1}, 'caustin': {'submitted distance': 1, 'distance_filename': './caustin-distance.json', 'valid distance': 1, 'submitted find': 1, 'find_filename': './caustin-find.json', 'valid find': 1}, 'cessna17': {'submitted distance': 1, 'distance_filename': './cessna17-distance.json', 'valid distance': 1, 'submitted find': 1, 'find_filename': './cessna17-find.json', 'valid find': 1}, 'ch85': {'submitted distance': 1, 'distance_filename': './ch85-distance.json', 'valid distance': 1, 'submitted find': 1, 'find_filename': './ch85-find.json', 'valid find': 1}, 'chenhui': {'submitted distance': 1, 'distance_filename': './chenhui-distance.json', 'valid distance': 1, 'submitted find': 1, 'find_filename': './chenhui-find.json', 'valid find': 1}, 'cmar1299': {'submitted distance': 1, 'distance_filename': './cmar1299-distance.json', 'valid distance': 1, 'submitted find': 1, 'find_filename': './cmar1299-find.json', 'valid find': 1}, 'colecole': {'submitted distance': 1, 'distance_filename': './colecole-distance.json', 'valid distance': 1, 'submitted find': 1, 'find_filename': './colecole-find.json', 'valid find': 1}, 'connorsw': {'submitted distance': 1, 'distance_filename': './connorsw-distance.json', 'valid distance': 1, 'submitted find': 1, 'find_filename': './connorsw-find.json', 'valid find': 1}, 'criech5': {'submitted distance': 1, 'distance_filename': './criech5-distance.json', 'valid distance': 1, 'submitted find': 1, 'find_filename': './criech5-find.json', 'valid find': 1}, 'cwernsma': {'submitted distance': 1, 'distance_filename': './cwernsma-distance.json', 'valid distance': 1, 'submitted find': 1, 'find_filename': './cwernsma-find.json', 'valid find': 1}, 'darinh': {'submitted distance': 1, 'distance_filename': './darinh-distance.json', 'valid distance': 1, 'submitted find': 1, 'find_filename': './darinh-find.json', 'valid find': 1}, 'davematt': {'submitted distance': 1, 'distance_filename': './davematt-distance.json', 'valid distance': 1}, 'dbilbao': {'submitted distance': 1, 'distance_filename': './dbilbao-distance.json', 'valid distance': 1, 'submitted find': 1, 'find_filename': './dbilbao-find.json', 'valid find': 1}, 'deionus': {'submitted distance': 1, 'distance_filename': './deionus-distance.json', 'valid distance': 1, 'submitted find': 1, 'find_filename': './deionus-find.json', 'valid find': 1}, 'drew21': {'submitted distance': 1, 'distance_filename': './drew21-distance.json', 'valid distance': 1, 'submitted find': 1, 'find_filename': './drew21-find.json', 'valid find': 1}, 'eberleben15': {'submitted distance': 1, 'distance_filename': './eberleben15-distance.json', 'valid distance': 1, 'submitted find': 1, 'find_filename': './eberleben15-find.json', 'valid find': 1}, 'edvarela': {'submitted distance': 1, 'distance_filename': './edvarela-distance.json', 'valid distance': 1, 'submitted find': 1, 'find_filename': './edvarela-find.json', 'valid find': 1}, 'eyreda': {'invalid_filename': './eyreda--distance.json', 'comment': \"Student's filename: ./eyreda--distance.jsonwas not in the format eid_find/distance, so was not valid.\", 'submitted find': 1, 'find_filename': './eyreda-find.json', 'valid find': 1}, 'fonsecao': {'submitted distance': 0, 'distance_filename': './fonsecao-distance.json', 'valid distance': 1, 'submitted find': 1, 'find_filename': './fonsecao-find.json'}, 'fosterm4': {'submitted distance': 1, 'distance_filename': './fosterm4-distance.json', 'valid distance': 1}, 'frankyg': {'submitted distance': 1, 'distance_filename': './frankyg-distance.json', 'valid distance': 1, 'submitted find': 1, 'find_filename': './frankyg-find.json', 'valid find': 1}, 'futurion': {'submitted distance': 1, 'distance_filename': './futurion-distance.json', 'valid distance': 1, 'submitted find': 1, 'find_filename': './futurion-find.json', 'valid find': 1}, 'gaviguy': {'submitted distance': 1, 'distance_filename': './gaviguy-distance.json', 'valid distance': 1, 'submitted find': 1, 'find_filename': './gaviguy-find.json', 'valid find': 1}, 'gdeyoung': {'submitted distance': 1, 'distance_filename': './gdeyoung-distance.json', 'valid distance': 1, 'submitted find': 1, 'find_filename': './gdeyoung-find.json', 'valid find': 1}, 'gianni99': {'submitted distance': 1, 'distance_filename': './gianni99-distance.json', 'valid distance': 1, 'submitted find': 1, 'find_filename': './gianni99-find.json', 'valid find': 1}, 'gmartinaitis': {'submitted distance': 1, 'distance_filename': './GMartinaitis-distance.json', 'valid distance': 1, 'submitted find': 1, 'find_filename': './GMartinaitis-find.json', 'valid find': 1}, 'jgarc110': {'submitted find': 1, 'find_filename': './jgarc110-find.json', 'valid find': 1, 'submitted distance': 1, 'distance_filename': './jgarc110-distance.json', 'valid distance': 1}, 'kwreindl': {'submitted distance': 0, 'distance_filename': './kwreindl-distance.json', 'valid distance': 1, 'submitted find': 1, 'find_filename': './kwreindl-find.json'}, 'meyassu': {'submitted distance': 1, 'distance_filename': './meyassu-distance.json', 'valid distance': 1, 'submitted find': 1, 'find_filename': './meyassu-find.json', 'valid find': 1}, 'nbell': {'submitted find': 1, 'find_filename': './nbell-find.json', 'valid find': 1, 'submitted distance': 1, 'distance_filename': './nbell-distance.json', 'valid distance': 1}, 'rbclark': {'submitted distance': 1, 'distance_filename': './rbclark-Distance.json', 'valid distance': 1, 'submitted find': 1, 'find_filename': './rbclark-find.json', 'valid find': 1}, 'tgifford': {'submitted distance': 1, 'distance_filename': './tgifford-distance.json', 'valid distance': 1, 'submitted find': 1, 'find_filename': './tgifford-find.json', 'valid find': 1}, 'hlingle': {'submitted find': 1, 'submitted distance': 1, 'find_filename': './hlingle-find.json', 'valid find': 1}, 'ico': {'submitted distance': 1, 'distance_filename': './ico-distance.json', 'valid distance': 1, 'submitted find': 1, 'find_filename': './ico-find.json', 'valid find': 1}, 'idmunro19': {'submitted distance': 1, 'distance_filename': './idmunro19-distance.json', 'valid distance': 1, 'submitted find': 1, 'find_filename': './idmunro19-find.json', 'valid find': 1}, 'it': {'submitted distance': 1, 'distance_filename': './it-distance.json', 'valid distance': 1, 'submitted find': 1, 'find_filename': './it-find.json', 'valid find': 1}, 'jabayless': {'submitted find': 1, 'submitted distance': 0, 'find_filename': './jabayless-find.json'}, 'jacce522': {'submitted distance': 1, 'distance_filename': './jacce522-distance.json', 'valid distance': 1, 'submitted find': 1, 'find_filename': './jacce522-find.json', 'valid find': 1}, 'jeyost': {'submitted distance': 1, 'distance_filename': './jeyost-distance.json', 'valid distance': 1, 'submitted find': 1, 'find_filename': './jeyost-find.json', 'valid find': 1}, 'jiajin': {'submitted distance': 1, 'distance_filename': './jiajin-distance.json', 'valid distance': 1, 'submitted find': 1, 'find_filename': './jiajin-find.json', 'valid find': 1}, 'jimit': {'submitted distance': 1, 'distance_filename': './jimit-distance.json', 'valid distance': 1, 'submitted find': 1, 'find_filename': './jimit-find.json', 'valid find': 1}, 'jnelson3': {'submitted distance': 1, 'distance_filename': './jnelson3-distance.json', 'valid distance': 1, 'submitted find': 1, 'find_filename': './jnelson3-find.json', 'valid find': 1}, 'jrogers0': {'submitted distance': 1, 'distance_filename': './jrogers0-distance.json', 'valid distance': 1, 'submitted find': 1, 'find_filename': './jrogers0-find.json', 'valid find': 1}, 'kathank': {'submitted distance': 1, 'distance_filename': './kathank-distance.json', 'valid distance': 1, 'submitted find': 1, 'find_filename': './kathank-find.json', 'valid find': 1}, 'kc7': {'submitted distance': 1, 'distance_filename': './kc7-distance.json', 'valid distance': 1, 'submitted find': 1, 'find_filename': './kc7-find.json', 'valid find': 1}, 'kingat': {'submitted distance': 1, 'distance_filename': './kingat-distance.json', 'valid distance': 1, 'submitted find': 1, 'find_filename': './kingat-find.json', 'valid find': 1}, 'krwalsh1': {'submitted distance': 1, 'distance_filename': './krwalsh1-distance.json', 'valid distance': 1, 'submitted find': 1, 'find_filename': './krwalsh1-find.json', 'valid find': 1}, 'lukas001': {'submitted distance': 1, 'distance_filename': './lukas001-distance.json', 'valid distance': 1, 'submitted find': 1, 'find_filename': './lukas001-find.json', 'valid find': 1}, 'markag': {'submitted distance': 1, 'distance_filename': './markag-distance.json', 'valid distance': 1, 'submitted find': 1, 'find_filename': './markag-find.json', 'valid find': 1}, 'mary4': {'submitted distance': 1, 'distance_filename': './mary4-distance.json', 'valid distance': 1, 'submitted find': 1, 'find_filename': './mary4-find.json', 'valid find': 1}, 'mat1121': {'submitted distance': 1, 'distance_filename': './mat1121-distance.json', 'valid distance': 1, 'submitted find': 1, 'find_filename': './mat1121-find.json', 'valid find': 1}, 'matt1985': {'submitted distance': 1, 'distance_filename': './matt1985-distance.json', 'valid distance': 1, 'submitted find': 1, 'find_filename': './matt1985-find.json', 'valid find': 1}, 'mattv': {'submitted distance': 1, 'distance_filename': './mattv-distance.json', 'valid distance': 1}, 'mbauers': {'submitted find': 1, 'submitted distance': 1, 'find_filename': './mbauers-find.json', 'valid find': 1}, 'melvin42': {'submitted distance': 1, 'distance_filename': './melvin42-distance.json', 'valid distance': 1, 'submitted find': 1, 'find_filename': './melvin42-find.json', 'valid find': 1}, 'mfernst': {'submitted distance': 1, 'distance_filename': './mfernst-distance.json', 'valid distance': 1, 'submitted find': 1, 'find_filename': './mfernst-find.json', 'valid find': 1}, 'mikep99': {'submitted distance': 1, 'distance_filename': './mikep99-distance.json', 'valid distance': 1, 'submitted find': 1, 'find_filename': './mikep99-find.json', 'valid find': 1}, 'moise': {'submitted distance': 1, 'distance_filename': './moise-distance.json', 'valid distance': 1, 'submitted find': 1, 'find_filename': './moise-find.json', 'valid find': 1}, 'moranale': {'submitted distance': 1, 'distance_filename': './moranale-distance.json', 'valid distance': 1, 'submitted find': 1, 'find_filename': './moranale-find.json', 'valid find': 1}, 'mrule': {'submitted distance': 1, 'distance_filename': './mrule-distance.json', 'valid distance': 1, 'submitted find': 1, 'find_filename': './mrule-find.json', 'valid find': 1}, 'mvanderi': {'submitted distance': 1, 'distance_filename': './mvanderi-distance.json', 'valid distance': 1, 'submitted find': 1, 'find_filename': './mvanderi-find.json', 'valid find': 1}, 'mxnieb': {'submitted distance': 1, 'distance_filename': './mxnieb-distance.json', 'valid distance': 1, 'submitted find': 1, 'find_filename': './mxnieb-find.json', 'valid find': 1}, 'nd0905': {'submitted distance': 1, 'distance_filename': './nd0905-distance.json', 'valid distance': 1, 'submitted find': 1, 'find_filename': './nd0905-find.json', 'valid find': 1}, 'neema': {'submitted distance': 1, 'distance_filename': './neema-distance.json', 'valid distance': 1, 'submitted find': 1, 'find_filename': './neema-find.json', 'valid find': 1}, 'nguyenh': {'submitted distance': 0, 'distance_filename': './nguyenh-distance.json', 'valid distance': 1, 'submitted find': 1, 'find_filename': './nguyenh-find.json'}, 'nickhett': {'submitted distance': 1, 'distance_filename': './nickhett-distance.json', 'valid distance': 1, 'submitted find': 1, 'find_filename': './nickhett-find.json', 'valid find': 1}, 'pdunton': {'submitted distance': 1, 'distance_filename': './pdunton-distance.json', 'valid distance': 1, 'submitted find': 1, 'find_filename': './pdunton-find.json', 'valid find': 1}, 'petterle': {'submitted distance': 1, 'distance_filename': './petterle-distance.json', 'valid distance': 1, 'submitted find': 1, 'find_filename': './petterle-find.json', 'valid find': 1}, 'psmith': {'submitted distance': 1, 'distance_filename': './psmith-distance.json', 'valid distance': 1, 'submitted find': 1, 'find_filename': './psmith-find.json', 'valid find': 1}, 'raghd': {'submitted distance': 1, 'distance_filename': './raghd-distance.json', 'valid distance': 1, 'submitted find': 1, 'find_filename': './raghd-find.json', 'valid find': 1}, 'rkopacz': {'submitted distance': 1, 'distance_filename': './rkopacz-distance.json', 'valid distance': 1, 'submitted find': 1, 'find_filename': './rkopacz-find.json', 'valid find': 1}, 'rloptien': {'submitted distance': 1, 'distance_filename': './rloptien-distance.json', 'valid distance': 1, 'submitted find': 1, 'find_filename': './rloptien-find.json', 'valid find': 1}, 'rylied': {'submitted distance': 1, 'distance_filename': './rylied-distance.json', 'valid distance': 1, 'submitted find': 1, 'find_filename': './rylied-find.json', 'valid find': 1}, 'shlok': {'submitted distance': 1, 'distance_filename': './shlok-distance.json', 'valid distance': 1, 'submitted find': 1, 'find_filename': './shlok-find.json', 'valid find': 1}, 'smunoz': {'submitted find': 1, 'submitted distance': 1, 'find_filename': './smunoz-find.json', 'valid find': 1}, 'suyashh': {'submitted distance': 1, 'distance_filename': './suyashh-distance.json', 'valid distance': 1, 'submitted find': 1, 'find_filename': './suyashh-find.json', 'valid find': 1}, 'tancle': {'submitted distance': 1, 'distance_filename': './tancle-distance.json', 'valid distance': 1, 'submitted find': 1, 'find_filename': './tancle-find.json', 'valid find': 1}, 'thomas41': {'submitted distance': 1, 'distance_filename': './thomas41-distance.json', 'valid distance': 1, 'submitted find': 1, 'find_filename': './thomas41-find.json', 'valid find': 1}, 'tjpatt': {'submitted distance': 1, 'distance_filename': './tjpatt-distance.json', 'valid distance': 1, 'submitted find': 1, 'find_filename': './tjpatt-find.json', 'valid find': 1}, 'treescru': {'submitted distance': 1, 'distance_filename': './treescru-distance.json', 'valid distance': 1, 'submitted find': 1, 'find_filename': './treescru-find.json', 'valid find': 1}, 'trentonw': {'submitted distance': 1, 'distance_filename': './trentonw-distance.json', 'valid distance': 1, 'submitted find': 1, 'find_filename': './trentonw-find.json', 'valid find': 1}, 'tri': {'submitted distance': 1, 'distance_filename': './tri-distance.json', 'valid distance': 1, 'submitted find': 1, 'find_filename': './tri-find.json', 'valid find': 1}, 'wckelly': {'submitted distance': 1, 'distance_filename': './wckelly-distance.json', 'valid distance': 1, 'submitted find': 1, 'find_filename': './wckelly-find.json', 'valid find': 1}, 'wyatt': {'invalid_filename': './wyatt-temple-find.json', 'comment': \"Student's filename: ./wyatt-temple-find.jsonwas not in the format eid_find/distance, so was not valid.\"}, 'xinyi99': {'submitted distance': 0, 'distance_filename': './xinyi99-distance.json', 'valid distance': 1, 'submitted find': 1, 'find_filename': './xinyi99-find.json'}, 'yiboxu': {'submitted distance': 1, 'distance_filename': './yiboxu-distance.json', 'valid distance': 1, 'submitted find': 1, 'find_filename': './yiboxu-find.json', 'valid find': 1}, 'zwikel': {'submitted distance': 1, 'distance_filename': './zwikel-distance.json', 'valid distance': 1, 'submitted find': 1, 'find_filename': './zwikel-find.json', 'valid find': 1}, 'slusk': {'submitted find': 0, 'submitted distance': 0}, 'carcamo': {'submitted find': 0, 'submitted distance': 0}, 'psmith36': {'submitted find': 0, 'submitted distance': 0}, 'ghmartin': {'submitted find': 0, 'submitted distance': 0}, 'ziyan': {'submitted find': 0, 'submitted distance': 0}, 'evanfitz': {'submitted find': 0, 'submitted distance': 0}, 'eberlebe': {'submitted find': 0, 'submitted distance': 0}, 'codesii': {'submitted find': 0, 'submitted distance': 0}, 'imunro19': {'submitted find': 0, 'submitted distance': 0}, 'jbayless': {'submitted find': 0, 'submitted distance': 0}, 'jakebart': {'submitted find': 0, 'submitted distance': 0}, 'frenchy9': {'submitted find': 0, 'submitted distance': 0}, 'sixfobit': {'submitted find': 0, 'submitted distance': 0}, 'sawyersz': {'submitted find': 0, 'submitted distance': 0}, 'daynight': {'submitted find': 0, 'submitted distance': 0}, 'puttputt': {'submitted find': 0, 'submitted distance': 0}, 'wulfing': {'submitted find': 0, 'submitted distance': 0}, 'gsparks': {'submitted find': 0, 'submitted distance': 0}, 'awalls26': {'submitted find': 0, 'submitted distance': 0}, 'pgeorg': {'submitted find': 0, 'submitted distance': 0}, 'tyoung19': {'submitted find': 0, 'submitted distance': 0}, 'wesw': {'submitted find': 0, 'submitted distance': 0}, 'antenehz': {'submitted find': 0, 'submitted distance': 0}, 'wtemple': {'submitted find': 0, 'submitted distance': 0}, 'dziugas': {'submitted find': 0, 'submitted distance': 0}, 'kaseda': {'submitted find': 0, 'submitted distance': 0}, 'sanketm': {'submitted find': 0, 'submitted distance': 0}, 'zhouxy': {'submitted find': 0, 'submitted distance': 0}, 'cs314': {'submitted find': 0, 'submitted distance': 0}}\n"
     ]
    }
   ],
   "source": [
    "print(student_dict)"
   ]
  },
  {
   "cell_type": "code",
   "execution_count": 9,
   "metadata": {},
   "outputs": [
    {
     "data": {
      "text/plain": [
       "126"
      ]
     },
     "execution_count": 9,
     "metadata": {},
     "output_type": "execute_result"
    }
   ],
   "source": [
    "len(student_dict)"
   ]
  },
  {
   "cell_type": "code",
   "execution_count": 15,
   "metadata": {},
   "outputs": [],
   "source": [
    "for key in ['cs314','kaseda','sanketm','zhouxy','dzuigas','dziugas']:\n",
    "    if student_dict.get(key,[]) != []:\n",
    "        del(student_dict[key])"
   ]
  },
  {
   "cell_type": "code",
   "execution_count": 16,
   "metadata": {},
   "outputs": [
    {
     "data": {
      "text/plain": [
       "121"
      ]
     },
     "execution_count": 16,
     "metadata": {},
     "output_type": "execute_result"
    }
   ],
   "source": [
    "len(student_dict)"
   ]
  },
  {
   "cell_type": "code",
   "execution_count": 17,
   "metadata": {},
   "outputs": [],
   "source": [
    "import pandas as pd\n",
    "df = pd.DataFrame().from_dict(student_dict)\n",
    "df = df.fillna(0)\n",
    "df = df.transpose()"
   ]
  },
  {
   "cell_type": "code",
   "execution_count": 18,
   "metadata": {},
   "outputs": [],
   "source": [
    "os.chdir('/media/sanketm/Data/Temp/CS314/gradingandscripts')\n",
    "df.to_csv('eid_sprint2_tests.csv')"
   ]
  },
  {
   "cell_type": "code",
   "execution_count": 14,
   "metadata": {},
   "outputs": [],
   "source": [
    "# with open('eid_sprint2_tests.csv', 'w') as f:\n",
    "#     for key in student_dict.keys():\n",
    "#         f.write(\"%s,%s\\n\"%(key,student_dict[key]))"
   ]
  },
  {
   "cell_type": "code",
   "execution_count": null,
   "metadata": {},
   "outputs": [],
   "source": []
  }
 ],
 "metadata": {
  "kernelspec": {
   "display_name": "Python 3",
   "language": "python",
   "name": "python3"
  },
  "language_info": {
   "codemirror_mode": {
    "name": "ipython",
    "version": 3
   },
   "file_extension": ".py",
   "mimetype": "text/x-python",
   "name": "python",
   "nbconvert_exporter": "python",
   "pygments_lexer": "ipython3",
   "version": "3.8.3"
  }
 },
 "nbformat": 4,
 "nbformat_minor": 4
}
