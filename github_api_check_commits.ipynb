{
 "cells": [
  {
   "cell_type": "markdown",
   "metadata": {
    "toc": true
   },
   "source": [
    "<h1>Table of Contents<span class=\"tocSkip\"></span></h1>\n",
    "<div class=\"toc\"><ul class=\"toc-item\"><li><span><a href=\"#Imports\" data-toc-modified-id=\"Imports-1\"><span class=\"toc-item-num\">1&nbsp;&nbsp;</span>Imports</a></span></li><li><span><a href=\"#Reading-the-students-json\" data-toc-modified-id=\"Reading-the-students-json-2\"><span class=\"toc-item-num\">2&nbsp;&nbsp;</span>Reading the students json</a></span></li><li><span><a href=\"#Using-the-Github-Access-Token-to-allow-access-to-read-all-my-github-repos\" data-toc-modified-id=\"Using-the-Github-Access-Token-to-allow-access-to-read-all-my-github-repos-3\"><span class=\"toc-item-num\">3&nbsp;&nbsp;</span>Using the Github Access Token to allow access to read all my github repos</a></span><ul class=\"toc-item\"><li><span><a href=\"#output-in-pandas-dataframe\" data-toc-modified-id=\"output-in-pandas-dataframe-3.1\"><span class=\"toc-item-num\">3.1&nbsp;&nbsp;</span>output in pandas dataframe</a></span></li><li><span><a href=\"#team-specific\" data-toc-modified-id=\"team-specific-3.2\"><span class=\"toc-item-num\">3.2&nbsp;&nbsp;</span>team specific</a></span></li><li><span><a href=\"#Add-Lines-Added-and-Removed\" data-toc-modified-id=\"Add-Lines-Added-and-Removed-3.3\"><span class=\"toc-item-num\">3.3&nbsp;&nbsp;</span>Add Lines Added and Removed</a></span></li></ul></li></ul></div>"
   ]
  },
  {
   "cell_type": "markdown",
   "metadata": {},
   "source": [
    "# Imports"
   ]
  },
  {
   "cell_type": "code",
   "execution_count": 13,
   "metadata": {
    "execution": {
     "iopub.execute_input": "2020-11-03T05:53:47.395945Z",
     "iopub.status.busy": "2020-11-03T05:53:47.395945Z",
     "iopub.status.idle": "2020-11-03T05:53:50.701714Z",
     "shell.execute_reply": "2020-11-03T05:53:50.700745Z",
     "shell.execute_reply.started": "2020-11-03T05:53:47.395945Z"
    }
   },
   "outputs": [],
   "source": [
    "import os\n",
    "import datetime\n",
    "from github import Github"
   ]
  },
  {
   "cell_type": "markdown",
   "metadata": {},
   "source": [
    "# Reading the students json"
   ]
  },
  {
   "cell_type": "code",
   "execution_count": 14,
   "metadata": {
    "execution": {
     "iopub.execute_input": "2020-11-03T05:53:50.702711Z",
     "iopub.status.busy": "2020-11-03T05:53:50.702711Z",
     "iopub.status.idle": "2020-11-03T05:53:50.798456Z",
     "shell.execute_reply": "2020-11-03T05:53:50.797490Z",
     "shell.execute_reply.started": "2020-11-03T05:53:50.702711Z"
    }
   },
   "outputs": [],
   "source": [
    "with open('fullList.json','r') as f:\n",
    "    import json\n",
    "    classlist = json.load(f)"
   ]
  },
  {
   "cell_type": "code",
   "execution_count": 15,
   "metadata": {
    "execution": {
     "iopub.execute_input": "2020-11-03T05:53:51.210354Z",
     "iopub.status.busy": "2020-11-03T05:53:51.210354Z",
     "iopub.status.idle": "2020-11-03T05:53:51.228306Z",
     "shell.execute_reply": "2020-11-03T05:53:51.227308Z",
     "shell.execute_reply.started": "2020-11-03T05:53:51.210354Z"
    }
   },
   "outputs": [
    {
     "data": {
      "text/plain": [
       "'alex-hooten'"
      ]
     },
     "execution_count": 15,
     "metadata": {},
     "output_type": "execute_result"
    }
   ],
   "source": [
    "classlist[0]['login']"
   ]
  },
  {
   "cell_type": "markdown",
   "metadata": {},
   "source": [
    "# Using the Github Access Token to allow access to read all my github repos\n",
    "\n",
    "you can generate this token in your github profile, settings, developers settings, access tokens(something similar). In case this changes in the future, ,google how to get access token for github profile.\n",
    "\n",
    "I'm using the pyGithub API here, it's amazing. but is a little coarse grained in it's control of the objects in your repo. Also their documentation is mostly a couple of simple examples on their github page, but I learnt a little more about what you can and can't do by digging into their code a little. Maybe this is price I pay for using high level abstraction libraries"
   ]
  },
  {
   "cell_type": "code",
   "execution_count": 16,
   "metadata": {
    "execution": {
     "iopub.execute_input": "2020-11-03T05:53:52.081026Z",
     "iopub.status.busy": "2020-11-03T05:53:52.081026Z",
     "iopub.status.idle": "2020-11-03T05:53:52.090002Z",
     "shell.execute_reply": "2020-11-03T05:53:52.089034Z",
     "shell.execute_reply.started": "2020-11-03T05:53:52.081026Z"
    }
   },
   "outputs": [
    {
     "data": {
      "text/plain": [
       "<github.MainClass.Github at 0x15cf34aa348>"
      ]
     },
     "execution_count": 16,
     "metadata": {},
     "output_type": "execute_result"
    }
   ],
   "source": [
    "accesstoken = \"\"\n",
    "with open(\"D:/tmp/github_token.txt\") as tokenreader:\n",
    "    accesstoken = tokenreader.read()\n",
    "g = Github(accesstoken)\n",
    "g"
   ]
  },
  {
   "cell_type": "code",
   "execution_count": 17,
   "metadata": {
    "execution": {
     "iopub.execute_input": "2020-11-03T05:53:53.397232Z",
     "iopub.status.busy": "2020-11-03T05:53:53.396234Z",
     "iopub.status.idle": "2020-11-03T05:53:53.829076Z",
     "shell.execute_reply": "2020-11-03T05:53:53.828080Z",
     "shell.execute_reply.started": "2020-11-03T05:53:53.396234Z"
    }
   },
   "outputs": [
    {
     "data": {
      "text/plain": [
       "Repository(full_name=\"csucs314f20/t01\")"
      ]
     },
     "execution_count": 17,
     "metadata": {},
     "output_type": "execute_result"
    }
   ],
   "source": [
    "repo = g.get_repo('csucs314f20/t01')\n",
    "repo"
   ]
  },
  {
   "cell_type": "code",
   "execution_count": 18,
   "metadata": {
    "execution": {
     "iopub.execute_input": "2020-11-03T05:53:56.866925Z",
     "iopub.status.busy": "2020-11-03T05:53:56.866925Z",
     "iopub.status.idle": "2020-11-03T05:53:57.105330Z",
     "shell.execute_reply": "2020-11-03T05:53:57.105330Z",
     "shell.execute_reply.started": "2020-11-03T05:53:56.866925Z"
    }
   },
   "outputs": [
    {
     "data": {
      "text/plain": [
       "859"
      ]
     },
     "execution_count": 18,
     "metadata": {},
     "output_type": "execute_result"
    }
   ],
   "source": [
    "allcommits = repo.get_commits()\n",
    "allcommits.totalCount"
   ]
  },
  {
   "cell_type": "code",
   "execution_count": 19,
   "metadata": {
    "execution": {
     "iopub.execute_input": "2020-11-03T05:53:58.527652Z",
     "iopub.status.busy": "2020-11-03T05:53:58.527652Z",
     "iopub.status.idle": "2020-11-03T05:53:58.626389Z",
     "shell.execute_reply": "2020-11-03T05:53:58.625391Z",
     "shell.execute_reply.started": "2020-11-03T05:53:58.527652Z"
    }
   },
   "outputs": [
    {
     "data": {
      "text/plain": [
       "RateLimit(core=Rate(remaining=4802, limit=5000))"
      ]
     },
     "execution_count": 19,
     "metadata": {},
     "output_type": "execute_result"
    }
   ],
   "source": [
    "g.get_rate_limit()"
   ]
  },
  {
   "cell_type": "code",
   "execution_count": 20,
   "metadata": {
    "execution": {
     "iopub.execute_input": "2020-11-03T05:54:36.557261Z",
     "iopub.status.busy": "2020-11-03T05:54:36.557261Z",
     "iopub.status.idle": "2020-11-03T05:54:57.583789Z",
     "shell.execute_reply": "2020-11-03T05:54:57.583789Z",
     "shell.execute_reply.started": "2020-11-03T05:54:36.557261Z"
    }
   },
   "outputs": [
    {
     "name": "stdout",
     "output_type": "stream",
     "text": [
      "Commit(sha=\"d0e02dc4eff72f437885f776b72c4880242b4da8\") NamedUser(login=\"alex-hooten\")\n",
      "Commit(sha=\"9409c053674e5502f324281b1364d60ffa29186f\") NamedUser(login=\"prestondunton\")\n",
      "Commit(sha=\"8f783118cb1aad543e5d5f874887d3cab2e8e5c2\") NamedUser(login=\"suyashhiray\")\n",
      "Commit(sha=\"9aaf0e87b070daa604272858d91568b8536cac91\") NamedUser(login=\"prestondunton\")\n",
      "Commit(sha=\"5fa60f3341a49e36491aff58b485037d3b791eb0\") NamedUser(login=\"nd0905\")\n",
      "Commit(sha=\"41df1d5aaa49c601d245a3cf7c92963a1de3dc9d\") NamedUser(login=\"suyashhiray\")\n",
      "Commit(sha=\"10b6f3755218a2ce9be611100ea5322426e983e8\") NamedUser(login=\"nd0905\")\n",
      "Commit(sha=\"8f73c76cce79b1d33ae4617def623b362cf43dcf\") NamedUser(login=\"alex-hooten\")\n",
      "Commit(sha=\"9077cf7e40662d7db81a2fe389943d5f779cfe72\") NamedUser(login=\"alex-hooten\")\n",
      "Commit(sha=\"ff46dcbaa0b0bf0d7519d49663f6d6cfd6a7d314\") NamedUser(login=\"prestondunton\")\n",
      "Commit(sha=\"c49cd6a3247f477b9e9088e3e83952486cc30de7\") NamedUser(login=\"prestondunton\")\n",
      "Commit(sha=\"2cf59fa4f4761cc7c78aecd48216402f9c40947a\") NamedUser(login=\"tacocabeza\")\n",
      "Commit(sha=\"d13681878929c859c7d8740f45274e89e70aaa78\") NamedUser(login=\"nd0905\")\n",
      "Commit(sha=\"9362018ab8c653200994a490ed3f1a0ab585c97d\") NamedUser(login=\"tacocabeza\")\n",
      "Commit(sha=\"0573fabeeccd42a42fd530864aaa63dffa84c8d1\") NamedUser(login=\"nd0905\")\n",
      "Commit(sha=\"497c40306c1c3fc86990c1957dd88f0ad7ef8478\") NamedUser(login=\"alex-hooten\")\n",
      "Commit(sha=\"f6957bc3fe34fa323599af04fa5e87d2be6eff70\") NamedUser(login=\"tacocabeza\")\n",
      "17 commits time taken = 0:00:19.986349\n"
     ]
    }
   ],
   "source": [
    "start = datetime.datetime.now()\n",
    "inspection_commit_ids = []\n",
    "for c in repo.get_commits(since=datetime.datetime(2020, 10, 27),until=datetime.datetime(2020,11,3)):\n",
    "    inspection_edits = [f for f in c.files if f.filename == \"reports/inspection5.md\"]\n",
    "    if inspection_edits != []:\n",
    "        print(c,c.author)\n",
    "        inspection_commit_ids.append([c.sha,c.author.login])\n",
    "print(f'{len(inspection_commit_ids)} commits', f'time taken = {datetime.datetime.now()-start}')"
   ]
  },
  {
   "cell_type": "code",
   "execution_count": 21,
   "metadata": {
    "execution": {
     "iopub.execute_input": "2020-11-03T05:55:42.923023Z",
     "iopub.status.busy": "2020-11-03T05:55:42.923023Z",
     "iopub.status.idle": "2020-11-03T05:55:43.017771Z",
     "shell.execute_reply": "2020-11-03T05:55:43.017771Z",
     "shell.execute_reply.started": "2020-11-03T05:55:42.923023Z"
    }
   },
   "outputs": [
    {
     "data": {
      "text/plain": [
       "RateLimit(core=Rate(remaining=4707, limit=5000))"
      ]
     },
     "execution_count": 21,
     "metadata": {},
     "output_type": "execute_result"
    }
   ],
   "source": [
    "g.get_rate_limit()"
   ]
  },
  {
   "cell_type": "code",
   "execution_count": 22,
   "metadata": {
    "execution": {
     "iopub.execute_input": "2020-11-03T05:55:59.708281Z",
     "iopub.status.busy": "2020-11-03T05:55:59.708281Z",
     "iopub.status.idle": "2020-11-03T05:55:59.714307Z",
     "shell.execute_reply": "2020-11-03T05:55:59.713724Z",
     "shell.execute_reply.started": "2020-11-03T05:55:59.708281Z"
    }
   },
   "outputs": [],
   "source": [
    "if \"reports/inspection3.md\" in c.files:\n",
    "        print(c,c.author)"
   ]
  },
  {
   "cell_type": "code",
   "execution_count": 23,
   "metadata": {
    "execution": {
     "iopub.execute_input": "2020-11-03T05:56:01.113418Z",
     "iopub.status.busy": "2020-11-03T05:56:01.113418Z",
     "iopub.status.idle": "2020-11-03T05:56:01.122698Z",
     "shell.execute_reply": "2020-11-03T05:56:01.122698Z",
     "shell.execute_reply.started": "2020-11-03T05:56:01.113418Z"
    }
   },
   "outputs": [
    {
     "data": {
      "text/plain": [
       "[File(sha=\"6d4af50b2192055afc240077860ab5d6ab552bbc\", filename=\"server/src/main/java/com/tco/functionality/Find.java\")]"
      ]
     },
     "execution_count": 23,
     "metadata": {},
     "output_type": "execute_result"
    }
   ],
   "source": [
    "c.files"
   ]
  },
  {
   "cell_type": "code",
   "execution_count": 24,
   "metadata": {
    "execution": {
     "iopub.execute_input": "2020-11-03T05:56:04.238617Z",
     "iopub.status.busy": "2020-11-03T05:56:04.238617Z",
     "iopub.status.idle": "2020-11-03T05:56:04.244591Z",
     "shell.execute_reply": "2020-11-03T05:56:04.243839Z",
     "shell.execute_reply.started": "2020-11-03T05:56:04.238617Z"
    }
   },
   "outputs": [],
   "source": [
    "# inspection_commit_ids = []\n",
    "# for c in repo.get_commits(since=datetime.datetime(2020, 10, 1)):\n",
    "#     if \"reports/inspection1.md\" in c.files:\n",
    "#         print(c,c.author)"
   ]
  },
  {
   "cell_type": "code",
   "execution_count": 25,
   "metadata": {
    "execution": {
     "iopub.execute_input": "2020-11-03T05:56:04.570762Z",
     "iopub.status.busy": "2020-11-03T05:56:04.570762Z",
     "iopub.status.idle": "2020-11-03T05:56:04.573713Z",
     "shell.execute_reply": "2020-11-03T05:56:04.573713Z",
     "shell.execute_reply.started": "2020-11-03T05:56:04.570762Z"
    }
   },
   "outputs": [],
   "source": [
    "# c.files"
   ]
  },
  {
   "cell_type": "code",
   "execution_count": 26,
   "metadata": {
    "execution": {
     "iopub.execute_input": "2020-11-03T05:56:05.579025Z",
     "iopub.status.busy": "2020-11-03T05:56:05.579025Z",
     "iopub.status.idle": "2020-11-03T05:56:05.586005Z",
     "shell.execute_reply": "2020-11-03T05:56:05.585087Z",
     "shell.execute_reply.started": "2020-11-03T05:56:05.579025Z"
    }
   },
   "outputs": [
    {
     "data": {
      "text/plain": [
       "[['d0e02dc4eff72f437885f776b72c4880242b4da8', 'alex-hooten'],\n",
       " ['9409c053674e5502f324281b1364d60ffa29186f', 'prestondunton'],\n",
       " ['8f783118cb1aad543e5d5f874887d3cab2e8e5c2', 'suyashhiray'],\n",
       " ['9aaf0e87b070daa604272858d91568b8536cac91', 'prestondunton'],\n",
       " ['5fa60f3341a49e36491aff58b485037d3b791eb0', 'nd0905'],\n",
       " ['41df1d5aaa49c601d245a3cf7c92963a1de3dc9d', 'suyashhiray'],\n",
       " ['10b6f3755218a2ce9be611100ea5322426e983e8', 'nd0905'],\n",
       " ['8f73c76cce79b1d33ae4617def623b362cf43dcf', 'alex-hooten'],\n",
       " ['9077cf7e40662d7db81a2fe389943d5f779cfe72', 'alex-hooten'],\n",
       " ['ff46dcbaa0b0bf0d7519d49663f6d6cfd6a7d314', 'prestondunton'],\n",
       " ['c49cd6a3247f477b9e9088e3e83952486cc30de7', 'prestondunton'],\n",
       " ['2cf59fa4f4761cc7c78aecd48216402f9c40947a', 'tacocabeza'],\n",
       " ['d13681878929c859c7d8740f45274e89e70aaa78', 'nd0905'],\n",
       " ['9362018ab8c653200994a490ed3f1a0ab585c97d', 'tacocabeza'],\n",
       " ['0573fabeeccd42a42fd530864aaa63dffa84c8d1', 'nd0905'],\n",
       " ['497c40306c1c3fc86990c1957dd88f0ad7ef8478', 'alex-hooten'],\n",
       " ['f6957bc3fe34fa323599af04fa5e87d2be6eff70', 'tacocabeza']]"
      ]
     },
     "execution_count": 26,
     "metadata": {},
     "output_type": "execute_result"
    }
   ],
   "source": [
    "inspection_commit_ids"
   ]
  },
  {
   "cell_type": "code",
   "execution_count": 27,
   "metadata": {
    "execution": {
     "iopub.execute_input": "2020-11-03T05:56:08.986739Z",
     "iopub.status.busy": "2020-11-03T05:56:08.986739Z",
     "iopub.status.idle": "2020-11-03T05:56:09.184211Z",
     "shell.execute_reply": "2020-11-03T05:56:09.184211Z",
     "shell.execute_reply.started": "2020-11-03T05:56:08.986739Z"
    }
   },
   "outputs": [
    {
     "name": "stdout",
     "output_type": "stream",
     "text": [
      "['alex-hooten', 'prestondunton', 'tacocabeza', 'nd0905', 'suyashhiray', 'kaseda1027', 'zhouxy89']\n",
      "['alex-hooten', 'prestondunton', 'tacocabeza', 'nd0905', 'suyashhiray']\n"
     ]
    }
   ],
   "source": [
    "full_team = [x.login for x in repo.get_contributors()]\n",
    "print(full_team)\n",
    "tas = ['mehrotrasan16','zhouxy89','kaseda1027','davematt']\n",
    "print([x for x in full_team if x not in tas])"
   ]
  },
  {
   "cell_type": "code",
   "execution_count": 28,
   "metadata": {
    "execution": {
     "iopub.execute_input": "2020-11-04T00:05:25.216846Z",
     "iopub.status.busy": "2020-11-04T00:05:25.216846Z",
     "iopub.status.idle": "2020-11-04T00:05:25.242844Z",
     "shell.execute_reply": "2020-11-04T00:05:25.241823Z",
     "shell.execute_reply.started": "2020-11-04T00:05:25.216846Z"
    }
   },
   "outputs": [
    {
     "name": "stdout",
     "output_type": "stream",
     "text": [
      "['01', '02', '03', '04', '05', '06', '07', '08', '09', '10', '11', '12', '13', '14', '15', '16', '17', '18', '19', '21', '23', '24']\n"
     ]
    }
   ],
   "source": [
    "teams = []\n",
    "for i in range(1,25):\n",
    "    #print('0'+str(i) if i < 10 else i)\n",
    "    teams.append('0'+str(i) if i < 10 else str(i))\n",
    "teams.remove('20')\n",
    "teams.remove('22')\n",
    "print(teams)\n"
   ]
  },
  {
   "cell_type": "code",
   "execution_count": 56,
   "metadata": {
    "execution": {
     "iopub.execute_input": "2020-11-04T00:05:50.510756Z",
     "iopub.status.busy": "2020-11-04T00:05:50.509760Z",
     "iopub.status.idle": "2020-11-04T00:12:02.986834Z",
     "shell.execute_reply": "2020-11-04T00:12:02.986186Z",
     "shell.execute_reply.started": "2020-11-04T00:05:50.510756Z"
    }
   },
   "outputs": [
    {
     "name": "stdout",
     "output_type": "stream",
     "text": [
      "\n",
      "\n",
      "Team 01\n",
      "jgarc110 , tacocabeza , 1\n",
      "ah00t13 , alex-hooten , 1\n",
      "suyashh , suyashhiray , 1\n",
      "nd0905 , nd0905 , 1\n",
      "pdunton , prestondunton , 1\n",
      "\n",
      "\n",
      "Team 02\n",
      "jiajin , JiajinYang , 1\n",
      "hlingle , haydenlingle , 1\n",
      "slusk , Seychelle , 1\n",
      "tyoung19 , TrevorYCO , 1\n",
      "yiboxu , YiboXuu , 0\n",
      "\n",
      "\n",
      "Team 03\n",
      "mfernst , matthewfernst , 1\n",
      "eyreda , DE0317 , 1\n",
      "futurion , futuration , 1\n",
      "camconn , camsn0w , 1\n",
      "jeyost , Jeyost , 1\n",
      "\n",
      "\n",
      "Team 04\n",
      "criech5 , criech5 , 1\n",
      "meyassu , mahelet19 , 1\n",
      "rkopacz , RebeccaKopacz , 1\n",
      "alecmilt , AlecMi , 1\n",
      "mvanderi , mvanderi , 1\n",
      "\n",
      "\n",
      "Team 05\n",
      "neema , Neemavar , 1\n",
      "psmith36 , pierce-smith1 , 1\n",
      "raghd , raaghd , 1\n",
      "mary4 , marycarrigan4 , 1\n",
      "ghmartin , GMartinaitis , 0\n",
      "\n",
      "\n",
      "Team 06\n",
      "drew21 , dreh21 , 1\n",
      "jnelson3 , jneson3 , 1\n",
      "ico , isaacowades , 0\n",
      "tjpatt , tooooby , 0\n",
      "ziyan , Apa-tea , 0\n",
      "\n",
      "\n",
      "Team 07\n",
      "evanfitz , evan-fitzpatrick , 1\n",
      "eberlebe , eberleben15 , 1\n",
      "colecole , DColePetty , 1\n",
      "gaviguy , GaviGuy , 1\n",
      "caustin , instinctual07 , 1\n",
      "\n",
      "\n",
      "Team 08\n",
      "imunro19 , idmunro , 1\n",
      "tgifford , tagifford , 1\n",
      "chenhui , chenhui-jiang , 1\n",
      "tancle , Kurnk , 1\n",
      "gianni99 , gianni321 , 1\n",
      "\n",
      "\n",
      "Team 09\n",
      "cmar1299 , CalebMaranian , 1\n",
      "kingat , Vathriel , 1\n",
      "jbayless , jabayless , 1\n",
      "zwikel , zwikel , 1\n",
      "fosterm4 , fosterm4 , 1\n",
      "\n",
      "\n",
      "Team 10\n",
      "jakebart , jakebart , 1\n",
      "frankyg , Franky-G , 1\n",
      "kc7 , CrepeTown , 1\n",
      "smunoz , deadrex55 , 1\n",
      "jimit , jimitbhalavat , 1\n",
      "\n",
      "\n",
      "Team 11\n",
      "antenehz , antenehz , 1\n",
      "braedens , BraedenSmith , 1\n",
      "frenchy9 , Marc-9 , 1\n",
      "sixfobit , sixfobit , 1\n",
      "fonsecao , Ofefonseca5 , 1\n",
      "\n",
      "\n",
      "Team 12\n",
      "rbclark , TotalLoser , 1\n",
      "moise , Moise98 , 1\n",
      "barelads , drewbarela , 1\n",
      "thomas41 , tommybean , 1\n",
      "sawyersz , sawyersz , 1\n",
      "\n",
      "\n",
      "Team 13\n",
      "connorsw , connors5 , 1\n",
      "shlok , shloka-gondalia , 1\n",
      "benschra , schraederbr , 1\n",
      "mikep99 , IndependentThinker , 1\n",
      "mat1121 , maja5627 , 1\n",
      "\n",
      "\n",
      "Team 14\n",
      "cessna17 , cessna17 , 1\n",
      "darinh , darin3 , 1\n",
      "rylied , RylieDD , 1\n",
      "edvarela , edgarv24 , 1\n",
      "\n",
      "\n",
      "Team 15\n",
      "jacce522 , Jacce522 , 1\n",
      "trentonw , trentonwuerker , 1\n",
      "markag , MarkGardnerCSU , 1\n",
      "treescru , Treescrub , 1\n",
      "\n",
      "\n",
      "Team 16\n",
      "dbilbao , dayana0425 , 1\n",
      "mattv , mattvildibill , 1\n",
      "xinyi99 , Xinyi-Wang99 , 1\n",
      "rloptien , rloptien , 1\n",
      "daynight , daynight66 , 1\n",
      "\n",
      "\n",
      "Team 17\n",
      "tri , Tri95182 , 1\n",
      "cwernsma , collinw99 , 1\n",
      "melvin42 , M-Tech212 , 1\n",
      "wulfing , wulfing , 0\n",
      "\n",
      "\n",
      "Team 18\n",
      "moranale , alecmoran7 , 1\n",
      "ch85 , chasehoward85 , 1\n",
      "petterle , johnluhot , 1\n",
      "krwalsh1 , krwalsh1 , 1\n",
      "mbauers , michaelbauers , 1\n",
      "\n",
      "\n",
      "Team 19\n",
      "backlira , backlira , 1\n",
      "wckelly , april-kelly , 1\n",
      "mxnieb , 9burger , 1\n",
      "wesw , WesleyWallace , 1\n",
      "augustai , Augusta4 , 0\n",
      "\n",
      "\n",
      "Team 21\n",
      "mrule , mrule99 , 1\n",
      "nickhett , nickhett , 1\n",
      "bobbycsu , bobbypascale , 1\n",
      "awalls26 , aericjw , 1\n",
      "jrogers0 , Josh-R-00 , 1\n",
      "\n",
      "\n",
      "Team 23\n",
      "deionus , Deionus , 1\n",
      "nbell , NBell96 , 1\n",
      "nguyenh , NguyenHuy617 , 1\n",
      "kwreindl , kwreindl , 1\n",
      "lukas001 , lukas-001 , 1\n",
      "\n",
      "\n",
      "Team 24\n",
      "matt1985 , matt0whitehead , 1\n",
      "bcombs18 , bcombs18 , 1\n",
      "it , divy-s , 1\n",
      "wtemple , wyatt-temple , 1\n",
      "kathank , BlackEyedGhost , 0\n"
     ]
    }
   ],
   "source": [
    "for team in teams:\n",
    "# team = 't05'\n",
    "    print(f\"\\n\\nTeam {team}\")\n",
    "    #repo\n",
    "    repo = g.get_repo('csucs314f20/t'+team)\n",
    "\n",
    "    #full_team\n",
    "    full_team = [x.login for x in repo.get_contributors()]\n",
    "\n",
    "    #only students, remove tas.\n",
    "    tas = ['mehrotrasan16','zhouxy89','kaseda1027','davematt']\n",
    "    contributors = [x for x in full_team if x not in tas]\n",
    "    #for x in contributors: print(x)\n",
    "\n",
    "    modified_inspection = set()\n",
    "\n",
    "    #commits \n",
    "    inspection_commit_ids = []\n",
    "    for c in repo.get_commits(since=datetime.datetime(2020, 10, 27),until=datetime.datetime(2020,11,3,6,59,59)): # start date of the sprint, and \n",
    "        inspection_edits = [f for f in c.files if f.filename == \"reports/inspection3.md\"]\n",
    "        if inspection_edits != []:\n",
    "            #print(c,c.author.login,c.last_modified)\n",
    "            modified_inspection.add(c.author.login)\n",
    "            #inspection_commit_ids.append([c.sha,c.author.login])\n",
    "    for x in modified_inspection:\n",
    "        for i in classlist:\n",
    "            if i['login'] == x:\n",
    "                print(i['eID'],',',i['login'],',',1)\n",
    "    not_modified = [x for x in contributors if x not in modified_inspection]\n",
    "    for x in not_modified:\n",
    "        for i in classlist:\n",
    "            if i['login'] == x:\n",
    "                print(i['eID'],\",\",i['login'],\",\",0)\n"
   ]
  },
  {
   "cell_type": "markdown",
   "metadata": {},
   "source": [
    "## output in pandas dataframe"
   ]
  },
  {
   "cell_type": "code",
   "execution_count": 29,
   "metadata": {
    "execution": {
     "iopub.execute_input": "2020-11-04T00:12:02.987834Z",
     "iopub.status.busy": "2020-11-04T00:12:02.987834Z",
     "iopub.status.idle": "2020-11-04T00:12:02.990829Z",
     "shell.execute_reply": "2020-11-04T00:12:02.990829Z",
     "shell.execute_reply.started": "2020-11-04T00:12:02.987834Z"
    }
   },
   "outputs": [],
   "source": [
    "import pandas as pd"
   ]
  },
  {
   "cell_type": "code",
   "execution_count": 30,
   "metadata": {
    "execution": {
     "iopub.execute_input": "2020-11-04T00:12:02.992824Z",
     "iopub.status.busy": "2020-11-04T00:12:02.991827Z",
     "iopub.status.idle": "2020-11-04T00:12:02.996813Z",
     "shell.execute_reply": "2020-11-04T00:12:02.995825Z",
     "shell.execute_reply.started": "2020-11-04T00:12:02.992824Z"
    }
   },
   "outputs": [],
   "source": [
    "student_dict = {}"
   ]
  },
  {
   "cell_type": "code",
   "execution_count": 32,
   "metadata": {
    "execution": {
     "iopub.execute_input": "2020-11-04T00:13:29.701591Z",
     "iopub.status.busy": "2020-11-04T00:13:29.701591Z",
     "iopub.status.idle": "2020-11-04T00:19:44.540299Z",
     "shell.execute_reply": "2020-11-04T00:19:44.540299Z",
     "shell.execute_reply.started": "2020-11-04T00:13:29.701591Z"
    }
   },
   "outputs": [
    {
     "name": "stdout",
     "output_type": "stream",
     "text": [
      "\n",
      "\n",
      "Team 01\n",
      " Done processing 17 commits, time taken = 0:00:15.515467\n",
      "\n",
      "\n",
      "Team 02\n",
      " Done processing 15 commits, time taken = 0:00:13.116002\n",
      "\n",
      "\n",
      "Team 03\n",
      " Done processing 15 commits, time taken = 0:00:12.892061\n",
      "\n",
      "\n",
      "Team 04\n",
      " Done processing 11 commits, time taken = 0:00:17.550879\n",
      "\n",
      "\n",
      "Team 05\n",
      " Done processing 15 commits, time taken = 0:00:46.948073\n",
      "\n",
      "\n",
      "Team 06\n",
      " Done processing 20 commits, time taken = 0:00:25.806819\n",
      "\n",
      "\n",
      "Team 07\n",
      " Done processing 24 commits, time taken = 0:00:36.043181\n",
      "\n",
      "\n",
      "Team 08\n",
      " Done processing 15 commits, time taken = 0:00:10.247869\n",
      "\n",
      "\n",
      "Team 09\n",
      " Done processing 14 commits, time taken = 0:00:12.290977\n",
      "\n",
      "\n",
      "Team 10\n",
      " Done processing 19 commits, time taken = 0:00:28.448326\n",
      "\n",
      "\n",
      "Team 11\n",
      " Done processing 14 commits, time taken = 0:00:08.003320\n",
      "\n",
      "\n",
      "Team 12\n",
      " Done processing 14 commits, time taken = 0:00:14.115002\n",
      "\n",
      "\n",
      "Team 13\n",
      " Done processing 15 commits, time taken = 0:00:54.487129\n",
      "\n",
      "\n",
      "Team 14\n",
      " Done processing 12 commits, time taken = 0:00:11.257142\n",
      "\n",
      "\n",
      "Team 15\n",
      " Done processing 11 commits, time taken = 0:00:14.742585\n",
      "\n",
      "\n",
      "Team 16\n",
      " Done processing 20 commits, time taken = 0:00:34.822122\n",
      "\n",
      "\n",
      "Team 17\n",
      " Done processing 13 commits, time taken = 0:00:16.786667\n",
      "\n",
      "\n",
      "Team 18\n",
      " Done processing 24 commits, time taken = 0:00:51.822167\n",
      "\n",
      "\n",
      "Team 19\n",
      " Done processing 10 commits, time taken = 0:00:08.227582\n",
      "\n",
      "\n",
      "Team 21\n",
      " Done processing 15 commits, time taken = 0:00:22.488284\n",
      "\n",
      "\n",
      "Team 23\n",
      " Done processing 15 commits, time taken = 0:00:23.958483\n",
      "\n",
      "\n",
      "Team 24\n",
      " Done processing 27 commits, time taken = 0:00:35.843110\n",
      "Done processing 22 teams, time taken = 0:08:35.416341\n"
     ]
    }
   ],
   "source": [
    "starttotal = datetime.datetime.now()\n",
    "for team in teams:\n",
    "# team = 't05'\n",
    "    startteam = datetime.datetime.now()\n",
    "    print(f\"\\n\\nTeam {team}\")\n",
    "    #repo\n",
    "    repo = g.get_repo('csucs314f20/t'+team)\n",
    "\n",
    "    #full_team\n",
    "    full_team = [x.login for x in repo.get_contributors()]\n",
    "\n",
    "    #only students, remove tas.\n",
    "    tas = ['mehrotrasan16','zhouxy89','kaseda1027','davematt']\n",
    "    contributors = [x for x in full_team if x not in tas]\n",
    "    #for x in contributors: print(x)\n",
    "\n",
    "    modified_inspection = set()\n",
    "\n",
    "    #commits \n",
    "    inspection_commit_ids = []\n",
    "    for c in repo.get_commits(since=datetime.datetime(2020,11,18),until=datetime.datetime(2020,12,10,6,59,59)): # start date of the sprint, and \n",
    "        inspection_edits = [f for f in c.files if f.filename == \"reports/inspection5.md\"]\n",
    "        if inspection_edits != []:\n",
    "            #print(c,c.author.login,c.last_modified)\n",
    "            modified_inspection.add(c.author.login)\n",
    "            inspection_commit_ids.append([c.sha,c.author.login])\n",
    "    for x in modified_inspection:\n",
    "        for i in classlist:\n",
    "            if i['login'] == x:\n",
    "                student_dict[i['eID']] = [i['login'],1,team]\n",
    "#                 print(i['eID'],',',i['login'],',',1)\n",
    "    not_modified = [x for x in contributors if x not in modified_inspection]\n",
    "    for x in not_modified:\n",
    "        for i in classlist:\n",
    "            if i['login'] == x:\n",
    "                student_dict[i['eID']] = [i['login'],0,team]\n",
    "#                 print(i['eID'],\",\",i['login'],\",\",0)\n",
    "    print(f' Done processing {len(inspection_commit_ids)} commits, time taken = {datetime.datetime.now() - startteam}')\n",
    "print(f'Done processing 22 teams, time taken = {datetime.datetime.now() - starttotal}')"
   ]
  },
  {
   "cell_type": "code",
   "execution_count": 33,
   "metadata": {
    "execution": {
     "iopub.execute_input": "2020-11-04T00:21:34.212935Z",
     "iopub.status.busy": "2020-11-04T00:21:34.211938Z",
     "iopub.status.idle": "2020-11-04T00:21:34.231925Z",
     "shell.execute_reply": "2020-11-04T00:21:34.231925Z",
     "shell.execute_reply.started": "2020-11-04T00:21:34.211938Z"
    }
   },
   "outputs": [],
   "source": [
    "df = pd.DataFrame(student_dict).T\n",
    "df.columns = ['github','committed','team']\n",
    "df.index = df.index.rename('eID')\n",
    "df\n",
    "df.to_csv('./autoinspect5.csv')"
   ]
  },
  {
   "cell_type": "markdown",
   "metadata": {},
   "source": [
    "## team specific"
   ]
  },
  {
   "cell_type": "code",
   "execution_count": 33,
   "metadata": {
    "execution": {
     "iopub.execute_input": "2020-11-03T16:23:45.882988Z",
     "iopub.status.busy": "2020-11-03T16:23:45.882988Z",
     "iopub.status.idle": "2020-11-03T16:23:57.932683Z",
     "shell.execute_reply": "2020-11-03T16:23:57.932683Z",
     "shell.execute_reply.started": "2020-11-03T16:23:45.882988Z"
    }
   },
   "outputs": [
    {
     "name": "stdout",
     "output_type": "stream",
     "text": [
      "\n",
      "\n",
      "Team t11\n",
      "antenehz , antenehz , 1\n",
      "braedens , BraedenSmith , 1\n",
      "frenchy9 , Marc-9 , 1\n",
      "sixfobit , sixfobit , 1\n",
      "fonsecao , Ofefonseca5 , 1\n"
     ]
    }
   ],
   "source": [
    "# for team in teams:\n",
    "team = 't11'\n",
    "print(f\"\\n\\nTeam {team}\")\n",
    "#repo\n",
    "repo = g.get_repo('csucs314f20/'+team)\n",
    "\n",
    "#full_team\n",
    "full_team = [x.login for x in repo.get_contributors()]\n",
    "\n",
    "#only students, remove tas.\n",
    "tas = ['mehrotrasan16','zhouxy89','kaseda1027','davematt']\n",
    "contributors = [x for x in full_team if x not in tas]\n",
    "#for x in contributors: print(x)\n",
    "\n",
    "modified_inspection = set()\n",
    "\n",
    "#commits \n",
    "inspection_commit_ids = []\n",
    "for c in repo.get_commits(since=datetime.datetime(2020, 10, 27),until=datetime.datetime(2020,11,3,7,59,59)):\n",
    "    inspection_edits = [f for f in c.files if f.filename == \"reports/inspection3.md\"]\n",
    "    if inspection_edits != []:\n",
    "        #print(c,c.author.login,c.last_modified)\n",
    "        modified_inspection.add(c.author.login)\n",
    "        #inspection_commit_ids.append([c.sha,c.author.login])\n",
    "for x in modified_inspection:\n",
    "    for i in classlist:\n",
    "        if i['login'] == x:\n",
    "            print(i['eID'],',',i['login'],',',1)\n",
    "not_modified = [x for x in contributors if x not in modified_inspection]\n",
    "for x in not_modified:\n",
    "    for i in classlist:\n",
    "        if i['login'] == x:\n",
    "            print(i['eID'],\",\",i['login'],\",\",0)\n"
   ]
  },
  {
   "cell_type": "code",
   "execution_count": 29,
   "metadata": {
    "execution": {
     "iopub.execute_input": "2020-10-24T00:17:52.633763Z",
     "iopub.status.busy": "2020-10-24T00:17:52.633763Z",
     "iopub.status.idle": "2020-10-24T00:17:52.638272Z",
     "shell.execute_reply": "2020-10-24T00:17:52.638272Z",
     "shell.execute_reply.started": "2020-10-24T00:17:52.633763Z"
    }
   },
   "outputs": [
    {
     "name": "stdout",
     "output_type": "stream",
     "text": [
      "wtemple , wyatt-temple , 0\n"
     ]
    }
   ],
   "source": [
    "print(i['eID'],\",\",i['login'],\",\",0)"
   ]
  },
  {
   "cell_type": "code",
   "execution_count": 81,
   "metadata": {},
   "outputs": [
    {
     "name": "stdout",
     "output_type": "stream",
     "text": [
      "jimitbhalavat\n",
      "deadrex55\n",
      "CrepeTown\n",
      "Franky-G\n",
      "jakebart\n"
     ]
    }
   ],
   "source": [
    "for x in contributors: print(x)"
   ]
  },
  {
   "cell_type": "code",
   "execution_count": 17,
   "metadata": {},
   "outputs": [],
   "source": [
    "# dir(c)"
   ]
  },
  {
   "cell_type": "markdown",
   "metadata": {},
   "source": [
    "## Add Lines Added and Removed"
   ]
  }
 ],
 "metadata": {
  "kernelspec": {
   "display_name": "Python 3",
   "language": "python",
   "name": "python3"
  },
  "language_info": {
   "codemirror_mode": {
    "name": "ipython",
    "version": 3
   },
   "file_extension": ".py",
   "mimetype": "text/x-python",
   "name": "python",
   "nbconvert_exporter": "python",
   "pygments_lexer": "ipython3",
   "version": "3.7.6"
  },
  "toc": {
   "base_numbering": 1,
   "nav_menu": {},
   "number_sections": true,
   "sideBar": true,
   "skip_h1_title": false,
   "title_cell": "Table of Contents",
   "title_sidebar": "Contents",
   "toc_cell": true,
   "toc_position": {},
   "toc_section_display": true,
   "toc_window_display": true
  },
  "toc-autonumbering": true,
  "toc-showcode": false,
  "toc-showtags": false
 },
 "nbformat": 4,
 "nbformat_minor": 4
}
